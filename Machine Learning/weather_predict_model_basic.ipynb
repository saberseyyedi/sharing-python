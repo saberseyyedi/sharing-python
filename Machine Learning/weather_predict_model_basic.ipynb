{
 "cells": [
  {
   "cell_type": "markdown",
   "id": "fcf62fec-37be-4e4c-b17f-995b0fd39746",
   "metadata": {},
   "source": [
    "## Creating a model to predict the temperture of a day based on the temperture of last 7 days."
   ]
  },
  {
   "cell_type": "code",
   "execution_count": 3,
   "id": "b5a46412-630b-411a-8f4a-20b07f25673e",
   "metadata": {},
   "outputs": [],
   "source": [
    "%matplotlib inline\n",
    "\n",
    "import numpy as np\n",
    "import matplotlib.pyplot as plt\n",
    "import pandas as pd \n",
    "from sklearn.linear_model import LinearRegression\n",
    "from sklearn.metrics import mean_absolute_error\n",
    "from sklearn.metrics import mean_squared_error\n",
    "from sklearn.metrics import r2_score\n",
    "import seaborn as sns"
   ]
  },
  {
   "cell_type": "code",
   "execution_count": 4,
   "id": "64e4f475-829c-457c-83ef-67d7cf16351d",
   "metadata": {},
   "outputs": [
    {
     "data": {
      "text/html": [
       "<div>\n",
       "<style scoped>\n",
       "    .dataframe tbody tr th:only-of-type {\n",
       "        vertical-align: middle;\n",
       "    }\n",
       "\n",
       "    .dataframe tbody tr th {\n",
       "        vertical-align: top;\n",
       "    }\n",
       "\n",
       "    .dataframe thead th {\n",
       "        text-align: right;\n",
       "    }\n",
       "</style>\n",
       "<table border=\"1\" class=\"dataframe\">\n",
       "  <thead>\n",
       "    <tr style=\"text-align: right;\">\n",
       "      <th></th>\n",
       "      <th>Date/Time</th>\n",
       "      <th>Temp (C)</th>\n",
       "      <th>Dew Point Temp (C)</th>\n",
       "      <th>Rel Hum (%)</th>\n",
       "      <th>Wind Spd (km/h)</th>\n",
       "      <th>Visibility (km)</th>\n",
       "      <th>Stn Press (kPa)</th>\n",
       "      <th>Weather</th>\n",
       "    </tr>\n",
       "  </thead>\n",
       "  <tbody>\n",
       "    <tr>\n",
       "      <th>0</th>\n",
       "      <td>2012-01-01 00:00:00</td>\n",
       "      <td>-1.8</td>\n",
       "      <td>-3.9</td>\n",
       "      <td>86</td>\n",
       "      <td>4</td>\n",
       "      <td>8.0</td>\n",
       "      <td>101.24</td>\n",
       "      <td>Fog</td>\n",
       "    </tr>\n",
       "    <tr>\n",
       "      <th>1</th>\n",
       "      <td>2012-01-01 01:00:00</td>\n",
       "      <td>-1.8</td>\n",
       "      <td>-3.7</td>\n",
       "      <td>87</td>\n",
       "      <td>4</td>\n",
       "      <td>8.0</td>\n",
       "      <td>101.24</td>\n",
       "      <td>Fog</td>\n",
       "    </tr>\n",
       "    <tr>\n",
       "      <th>2</th>\n",
       "      <td>2012-01-01 02:00:00</td>\n",
       "      <td>-1.8</td>\n",
       "      <td>-3.4</td>\n",
       "      <td>89</td>\n",
       "      <td>7</td>\n",
       "      <td>4.0</td>\n",
       "      <td>101.26</td>\n",
       "      <td>Freezing Drizzle,Fog</td>\n",
       "    </tr>\n",
       "    <tr>\n",
       "      <th>3</th>\n",
       "      <td>2012-01-01 03:00:00</td>\n",
       "      <td>-1.5</td>\n",
       "      <td>-3.2</td>\n",
       "      <td>88</td>\n",
       "      <td>6</td>\n",
       "      <td>4.0</td>\n",
       "      <td>101.27</td>\n",
       "      <td>Freezing Drizzle,Fog</td>\n",
       "    </tr>\n",
       "    <tr>\n",
       "      <th>4</th>\n",
       "      <td>2012-01-01 04:00:00</td>\n",
       "      <td>-1.5</td>\n",
       "      <td>-3.3</td>\n",
       "      <td>88</td>\n",
       "      <td>7</td>\n",
       "      <td>4.8</td>\n",
       "      <td>101.23</td>\n",
       "      <td>Fog</td>\n",
       "    </tr>\n",
       "  </tbody>\n",
       "</table>\n",
       "</div>"
      ],
      "text/plain": [
       "             Date/Time  Temp (C)  Dew Point Temp (C)  Rel Hum (%)  \\\n",
       "0  2012-01-01 00:00:00      -1.8                -3.9           86   \n",
       "1  2012-01-01 01:00:00      -1.8                -3.7           87   \n",
       "2  2012-01-01 02:00:00      -1.8                -3.4           89   \n",
       "3  2012-01-01 03:00:00      -1.5                -3.2           88   \n",
       "4  2012-01-01 04:00:00      -1.5                -3.3           88   \n",
       "\n",
       "   Wind Spd (km/h)  Visibility (km)  Stn Press (kPa)               Weather  \n",
       "0                4              8.0           101.24                   Fog  \n",
       "1                4              8.0           101.24                   Fog  \n",
       "2                7              4.0           101.26  Freezing Drizzle,Fog  \n",
       "3                6              4.0           101.27  Freezing Drizzle,Fog  \n",
       "4                7              4.8           101.23                   Fog  "
      ]
     },
     "execution_count": 4,
     "metadata": {},
     "output_type": "execute_result"
    }
   ],
   "source": [
    "df = pd.read_csv('weather_2012.csv')\n",
    "df.head()"
   ]
  },
  {
   "cell_type": "code",
   "execution_count": 7,
   "id": "59f1a681-7ffe-4a6c-8b38-8ed90307b95c",
   "metadata": {},
   "outputs": [
    {
     "data": {
      "text/plain": [
       "array([[-1.8],\n",
       "       [-1.8],\n",
       "       [-1.8],\n",
       "       ...,\n",
       "       [-0.5],\n",
       "       [-0.2],\n",
       "       [ 0. ]])"
      ]
     },
     "execution_count": 7,
     "metadata": {},
     "output_type": "execute_result"
    }
   ],
   "source": [
    "data = df['Temp (C)'].values.reshape(-1,1)\n",
    "data"
   ]
  },
  {
   "cell_type": "code",
   "execution_count": 8,
   "id": "7fb99a42-8459-4939-8dc6-e2366e07901b",
   "metadata": {},
   "outputs": [
    {
     "data": {
      "text/plain": [
       "(8784, 1)"
      ]
     },
     "execution_count": 8,
     "metadata": {},
     "output_type": "execute_result"
    }
   ],
   "source": [
    "data.shape"
   ]
  },
  {
   "cell_type": "code",
   "execution_count": 15,
   "id": "63f66d6b-de56-4c0d-824f-a1826b3f89b4",
   "metadata": {},
   "outputs": [],
   "source": [
    "'''\n",
    "    create a matrix with 8 column. the last column is the temperture of day we want to predict.\n",
    "    the other columns are temperture of last 7 days.\n",
    "'''\n",
    "data2 = np.hstack((data[0:-7,:], data[1:-6,:], data[2:-5,:], data[3:-4,:], \n",
    "                   data[4:-3,:], data[5:-2,:], data[6:-1,:], data[7:,:]))\n"
   ]
  },
  {
   "cell_type": "code",
   "execution_count": 10,
   "id": "21f8b04c-6eac-4423-909f-69faf7c88be8",
   "metadata": {},
   "outputs": [
    {
     "data": {
      "text/plain": [
       "(8777, 8)"
      ]
     },
     "execution_count": 10,
     "metadata": {},
     "output_type": "execute_result"
    }
   ],
   "source": [
    "data2.shape"
   ]
  },
  {
   "cell_type": "code",
   "execution_count": 13,
   "id": "a8048d28-06c6-40eb-8640-448a3320b25b",
   "metadata": {},
   "outputs": [
    {
     "data": {
      "text/plain": [
       "array([[-1.8, -1.8, -1.8, -1.5, -1.5, -1.4, -1.5, -1.4],\n",
       "       [-1.8, -1.8, -1.5, -1.5, -1.4, -1.5, -1.4, -1.4],\n",
       "       [-1.8, -1.5, -1.5, -1.4, -1.5, -1.4, -1.4, -1.3],\n",
       "       [-1.5, -1.5, -1.4, -1.5, -1.4, -1.4, -1.3, -1. ],\n",
       "       [-1.5, -1.4, -1.5, -1.4, -1.4, -1.3, -1. , -0.5],\n",
       "       [-1.4, -1.5, -1.4, -1.4, -1.3, -1. , -0.5, -0.2],\n",
       "       [-1.5, -1.4, -1.4, -1.3, -1. , -0.5, -0.2,  0.2],\n",
       "       [-1.4, -1.4, -1.3, -1. , -0.5, -0.2,  0.2,  0.8],\n",
       "       [-1.4, -1.3, -1. , -0.5, -0.2,  0.2,  0.8,  1.8],\n",
       "       [-1.3, -1. , -0.5, -0.2,  0.2,  0.8,  1.8,  2.6]])"
      ]
     },
     "execution_count": 13,
     "metadata": {},
     "output_type": "execute_result"
    }
   ],
   "source": [
    "data2[:10,:] # show 10 first rows. 7 columns are feature and the last column is targer"
   ]
  },
  {
   "cell_type": "code",
   "execution_count": 16,
   "id": "4dfa3c3d-11ca-4629-a70b-b86528768275",
   "metadata": {},
   "outputs": [],
   "source": [
    "x = data2[:,:-1]\n",
    "y = data2[:,-1]"
   ]
  },
  {
   "cell_type": "code",
   "execution_count": 18,
   "id": "26f44c16-4e81-4d4b-80f1-5869df954715",
   "metadata": {},
   "outputs": [
    {
     "data": {
      "image/png": "[encoded data removed]",
      "text/plain": [
       "<Figure size 432x288 with 1 Axes>"
      ]
     },
     "metadata": {
      "needs_background": "light"
     },
     "output_type": "display_data"
    }
   ],
   "source": [
    "plt.plot(y[::50]);"
   ]
  },
  {
   "cell_type": "code",
   "execution_count": 19,
   "id": "c4eb02fc-7aa1-4b0a-b514-b41386f6cdb2",
   "metadata": {},
   "outputs": [
    {
     "data": {
      "text/plain": [
       "0.9939274956170541"
      ]
     },
     "execution_count": 19,
     "metadata": {},
     "output_type": "execute_result"
    }
   ],
   "source": [
    "model = LinearRegression()\n",
    "model.fit(x,y)\n",
    "model.score(x,y)"
   ]
  },
  {
   "cell_type": "code",
   "execution_count": 21,
   "id": "325353c4-4941-4352-bef3-ef62bc423686",
   "metadata": {},
   "outputs": [],
   "source": [
    "y_p = model.predict(x)"
   ]
  },
  {
   "cell_type": "code",
   "execution_count": 22,
   "id": "02b44664-5d4d-41c6-a438-bceef571583f",
   "metadata": {},
   "outputs": [
    {
     "data": {
      "text/plain": [
       "0.6292650014604205"
      ]
     },
     "execution_count": 22,
     "metadata": {},
     "output_type": "execute_result"
    }
   ],
   "source": [
    "mean_absolute_error(y, y_p)"
   ]
  },
  {
   "cell_type": "code",
   "execution_count": null,
   "id": "47689906-1ddb-4831-8729-7e80776d12ae",
   "metadata": {},
   "outputs": [],
   "source": []
  }
 ],
 "metadata": {
  "kernelspec": {
   "display_name": "Python 3 (ipykernel)",
   "language": "python",
   "name": "python3"
  },
  "language_info": {
   "codemirror_mode": {
    "name": "ipython",
    "version": 3
   },
   "file_extension": ".py",
   "mimetype": "text/x-python",
   "name": "python",
   "nbconvert_exporter": "python",
   "pygments_lexer": "ipython3",
   "version": "3.9.7"
  }
 },
 "nbformat": 4,
 "nbformat_minor": 5
}
