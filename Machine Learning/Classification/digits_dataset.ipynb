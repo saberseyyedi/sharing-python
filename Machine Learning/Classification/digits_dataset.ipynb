{
 "cells": [
  {
   "cell_type": "code",
   "execution_count": 1,
   "id": "5ab7cd13-f5da-473d-9eb7-fa1b6a0820e8",
   "metadata": {},
   "outputs": [],
   "source": [
    "%matplotlib inline\n",
    "import matplotlib.pyplot as plt\n",
    "import seaborn as sns\n",
    "import numpy as np\n",
    "\n",
    "from sklearn.datasets import load_digits\n",
    "from sklearn.linear_model import LogisticRegression\n",
    "from sklearn.metrics import classification_report, confusion_matrix\n",
    "from sklearn.metrics import roc_auc_score, auc, roc_curve\n",
    "from sklearn.model_selection import train_test_split\n",
    "from sklearn.preprocessing import StandardScaler, MinMaxScaler"
   ]
  },
  {
   "cell_type": "code",
   "execution_count": 2,
   "id": "95296e9c-39e8-42a8-b18a-1b30e7437234",
   "metadata": {},
   "outputs": [
    {
     "name": "stdout",
     "output_type": "stream",
     "text": [
      ".. _digits_dataset:\n",
      "\n",
      "Optical recognition of handwritten digits dataset\n",
      "--------------------------------------------------\n",
      "\n",
      "**Data Set Characteristics:**\n",
      "\n",
      "    :Number of Instances: 1797\n",
      "    :Number of Attributes: 64\n",
      "    :Attribute Information: 8x8 image of integer pixels in the range 0..16.\n",
      "    :Missing Attribute Values: None\n",
      "    :Creator: E. Alpaydin (alpaydin '@' boun.edu.tr)\n",
      "    :Date: July; 1998\n",
      "\n",
      "This is a copy of the test set of the UCI ML hand-written digits datasets\n",
      "https://archive.ics.uci.edu/ml/datasets/Optical+Recognition+of+Handwritten+Digits\n",
      "\n",
      "The data set contains images of hand-written digits: 10 classes where\n",
      "each class refers to a digit.\n",
      "\n",
      "Preprocessing programs made available by NIST were used to extract\n",
      "normalized bitmaps of handwritten digits from a preprinted form. From a\n",
      "total of 43 people, 30 contributed to the training set and different 13\n",
      "to the test set. 32x32 bitmaps are divided into nonoverlapping blocks of\n",
      "4x4 and the number of on pixels are counted in each block. This generates\n",
      "an input matrix of 8x8 where each element is an integer in the range\n",
      "0..16. This reduces dimensionality and gives invariance to small\n",
      "distortions.\n",
      "\n",
      "For info on NIST preprocessing routines, see M. D. Garris, J. L. Blue, G.\n",
      "T. Candela, D. L. Dimmick, J. Geist, P. J. Grother, S. A. Janet, and C.\n",
      "L. Wilson, NIST Form-Based Handprint Recognition System, NISTIR 5469,\n",
      "1994.\n",
      "\n",
      ".. topic:: References\n",
      "\n",
      "  - C. Kaynak (1995) Methods of Combining Multiple Classifiers and Their\n",
      "    Applications to Handwritten Digit Recognition, MSc Thesis, Institute of\n",
      "    Graduate Studies in Science and Engineering, Bogazici University.\n",
      "  - E. Alpaydin, C. Kaynak (1998) Cascading Classifiers, Kybernetika.\n",
      "  - Ken Tang and Ponnuthurai N. Suganthan and Xi Yao and A. Kai Qin.\n",
      "    Linear dimensionalityreduction using relevance weighted LDA. School of\n",
      "    Electrical and Electronic Engineering Nanyang Technological University.\n",
      "    2005.\n",
      "  - Claudio Gentile. A New Approximate Maximal Margin Classification\n",
      "    Algorithm. NIPS. 2000.\n",
      "\n"
     ]
    }
   ],
   "source": [
    "a = load_digits()\n",
    "print(a[\"DESCR\"])"
   ]
  },
  {
   "cell_type": "code",
   "execution_count": 3,
   "id": "9ec7bfa3-7c47-4248-b4ba-587446f84cef",
   "metadata": {},
   "outputs": [
    {
     "name": "stdout",
     "output_type": "stream",
     "text": [
      "(1797, 64)\n",
      "(1797,)\n"
     ]
    }
   ],
   "source": [
    "x, y = load_digits(return_X_y=True)\n",
    "print(x.shape)\n",
    "print(y.shape)"
   ]
  },
  {
   "cell_type": "code",
   "execution_count": 4,
   "id": "8ad77245-917d-4c75-a3e0-29f505e6937a",
   "metadata": {},
   "outputs": [
    {
     "name": "stdout",
     "output_type": "stream",
     "text": [
      "[ 0.  0.  0.  2. 13.  0.  0.  0.  0.  0.  0.  8. 15.  0.  0.  0.  0.  0.\n",
      "  5. 16.  5.  2.  0.  0.  0.  0. 15. 12.  1. 16.  4.  0.  0.  4. 16.  2.\n",
      "  9. 16.  8.  0.  0.  0. 10. 14. 16. 16.  4.  0.  0.  0.  0.  0. 13.  8.\n",
      "  0.  0.  0.  0.  0.  0. 13.  6.  0.  0.]\n",
      "4\n"
     ]
    }
   ],
   "source": [
    "# Samle Data\n",
    "print(x[100])\n",
    "print(y[100])"
   ]
  },
  {
   "cell_type": "code",
   "execution_count": 5,
   "id": "c761e4f5-1241-4c1a-ac0f-0cce75c7d6de",
   "metadata": {},
   "outputs": [
    {
     "data": {
      "text/plain": [
       "array([[ 0.,  0.,  0.,  2., 13.,  0.,  0.,  0.],\n",
       "       [ 0.,  0.,  0.,  8., 15.,  0.,  0.,  0.],\n",
       "       [ 0.,  0.,  5., 16.,  5.,  2.,  0.,  0.],\n",
       "       [ 0.,  0., 15., 12.,  1., 16.,  4.,  0.],\n",
       "       [ 0.,  4., 16.,  2.,  9., 16.,  8.,  0.],\n",
       "       [ 0.,  0., 10., 14., 16., 16.,  4.,  0.],\n",
       "       [ 0.,  0.,  0.,  0., 13.,  8.,  0.,  0.],\n",
       "       [ 0.,  0.,  0.,  0., 13.,  6.,  0.,  0.]])"
      ]
     },
     "execution_count": 5,
     "metadata": {},
     "output_type": "execute_result"
    }
   ],
   "source": [
    "im = x[100].reshape(8,8)\n",
    "im"
   ]
  },
  {
   "cell_type": "code",
   "execution_count": 6,
   "id": "2b1df852-9c85-4f19-95ce-e03572dd3d55",
   "metadata": {},
   "outputs": [
    {
     "data": {
      "image/png": "[encoded data removed]",
      "text/plain": [
       "<Figure size 72x72 with 1 Axes>"
      ]
     },
     "metadata": {
      "needs_background": "light"
     },
     "output_type": "display_data"
    }
   ],
   "source": [
    "plt.figure(figsize=(1,1))\n",
    "plt.imshow(im, 'gray');"
   ]
  },
  {
   "cell_type": "code",
   "execution_count": 7,
   "id": "387d87bf-0d0d-4c2e-a1b6-117b50d13436",
   "metadata": {},
   "outputs": [
    {
     "data": {
      "image/png": "[encoded data removed]",
      "text/plain": [
       "<Figure size 150x50 with 3 Axes>"
      ]
     },
     "metadata": {
      "needs_background": "light"
     },
     "output_type": "display_data"
    }
   ],
   "source": [
    "plt.figure(figsize=(3,1),dpi=50)\n",
    "plt.subplot(131)\n",
    "plt.imshow(x[0].reshape(8,8), 'gray')\n",
    "plt.axis('off')\n",
    "plt.title(y[0])\n",
    "plt.subplot(132)\n",
    "plt.imshow(x[90].reshape(8,8), 'gray')\n",
    "plt.axis('off')\n",
    "plt.title(y[90])\n",
    "plt.subplot(133)\n",
    "plt.imshow(x[40].reshape(8,8), 'gray')\n",
    "plt.axis('off')\n",
    "plt.title(y[40]);"
   ]
  },
  {
   "cell_type": "code",
   "execution_count": 8,
   "id": "aac56aed-fe98-49ee-a21b-1eba7611ed4b",
   "metadata": {},
   "outputs": [],
   "source": [
    "x_train, x_test, y_train, y_test = train_test_split(x, y, test_size=0.2)"
   ]
  },
  {
   "cell_type": "code",
   "execution_count": 9,
   "id": "bc80656e-bcf5-4bb3-8480-a2d67861ee2c",
   "metadata": {},
   "outputs": [
    {
     "name": "stdout",
     "output_type": "stream",
     "text": [
      "(10,)\n",
      "(10,)\n"
     ]
    }
   ],
   "source": [
    "print(np.unique(y_train).shape)\n",
    "print(np.unique(y_test).shape)"
   ]
  },
  {
   "cell_type": "code",
   "execution_count": 10,
   "id": "59caaf85-7845-4ab7-8c36-e74c72874193",
   "metadata": {},
   "outputs": [],
   "source": [
    "s = MinMaxScaler()\n",
    "s.fit(x_train)\n",
    "x_train_ = s.transform(x_train)\n",
    "x_test_ = s.transform(x_test)"
   ]
  },
  {
   "cell_type": "code",
   "execution_count": 11,
   "id": "6c20645f-6c32-4ffb-9183-3cf192c720b2",
   "metadata": {},
   "outputs": [
    {
     "data": {
      "text/plain": [
       "array([0.    , 0.    , 0.4375, 1.    , 1.    , 0.5   , 0.    , 0.    ,\n",
       "       0.    , 0.    , 0.875 , 0.75  , 0.6875, 0.875 , 0.    , 0.    ,\n",
       "       0.    , 0.    , 0.6875, 0.9375, 1.    , 0.75  , 0.    , 0.    ,\n",
       "       0.    , 0.    , 0.3125, 0.9375, 0.9375, 0.25  , 0.    , 0.    ,\n",
       "       0.    , 0.    , 0.    , 0.1875, 0.75  , 0.875 , 0.    , 0.    ,\n",
       "       0.    , 0.0625, 0.625 , 0.    , 0.4375, 0.9375, 0.    , 0.    ,\n",
       "       0.    , 0.0625, 0.875 , 0.375 , 0.8125, 0.75  , 0.    , 0.    ,\n",
       "       0.    , 0.    , 0.4375, 1.    , 1.    , 0.6875, 0.    , 0.    ])"
      ]
     },
     "execution_count": 11,
     "metadata": {},
     "output_type": "execute_result"
    }
   ],
   "source": [
    "x_train_[100]"
   ]
  },
  {
   "cell_type": "code",
   "execution_count": 12,
   "id": "eb22a2c2-f3b1-445b-b90e-8bc9954a890d",
   "metadata": {},
   "outputs": [
    {
     "data": {
      "text/plain": [
       "LogisticRegression(C=0.05, multi_class='ovr', random_state=10,\n",
       "                   solver='liblinear')"
      ]
     },
     "execution_count": 12,
     "metadata": {},
     "output_type": "execute_result"
    }
   ],
   "source": [
    "model = LogisticRegression(solver='liblinear', C=0.05, multi_class='ovr', random_state=10)\n",
    "model.fit(x_train, y_train)"
   ]
  },
  {
   "cell_type": "code",
   "execution_count": 13,
   "id": "2abbb5d7-046d-4e45-b6d8-e65e6d7f199f",
   "metadata": {},
   "outputs": [
    {
     "name": "stdout",
     "output_type": "stream",
     "text": [
      "0.9874739039665971\n",
      "0.9527777777777777\n"
     ]
    }
   ],
   "source": [
    "print(model.score(x_train_, y_train))\n",
    "print(model.score(x_test_, y_test))"
   ]
  },
  {
   "cell_type": "code",
   "execution_count": 14,
   "id": "647c75ff-dc9b-4d9a-a26e-e458e142c159",
   "metadata": {},
   "outputs": [],
   "source": [
    "y_pred_test = model.predict(x_test_)"
   ]
  },
  {
   "cell_type": "code",
   "execution_count": 18,
   "id": "faf51ebd-f08f-422c-9e3c-68dc7cc8d694",
   "metadata": {},
   "outputs": [
    {
     "name": "stdout",
     "output_type": "stream",
     "text": [
      "7\n",
      "7\n"
     ]
    },
    {
     "data": {
      "image/png": "[encoded data removed]",
      "text/plain": [
       "<Figure size 36x36 with 1 Axes>"
      ]
     },
     "metadata": {
      "needs_background": "light"
     },
     "output_type": "display_data"
    }
   ],
   "source": [
    "print(y_pred_test[90])\n",
    "print(y_test[90])\n",
    "plt.figure(figsize=(0.5,0.5))\n",
    "plt.axis('off')\n",
    "plt.imshow(x_test[90].reshape(8,8), 'gray');"
   ]
  },
  {
   "cell_type": "code",
   "execution_count": 19,
   "id": "95d620fe-d735-4104-9387-34fc7f99bf2a",
   "metadata": {},
   "outputs": [
    {
     "data": {
      "text/plain": [
       "array([[37,  0,  0,  0,  0,  0,  0,  0,  0,  0],\n",
       "       [ 0, 32,  0,  1,  1,  0,  0,  0,  0,  0],\n",
       "       [ 0,  0, 25,  0,  0,  0,  0,  0,  0,  0],\n",
       "       [ 0,  0,  0, 44,  0,  0,  0,  1,  0,  1],\n",
       "       [ 0,  1,  0,  0, 39,  0,  0,  1,  1,  0],\n",
       "       [ 0,  0,  0,  0,  0, 31,  0,  0,  0,  0],\n",
       "       [ 0,  0,  0,  0,  0,  0, 30,  0,  0,  0],\n",
       "       [ 0,  0,  0,  0,  1,  0,  0, 42,  0,  0],\n",
       "       [ 0,  4,  0,  2,  0,  0,  0,  1, 32,  0],\n",
       "       [ 0,  0,  0,  2,  0,  0,  0,  0,  0, 31]], dtype=int64)"
      ]
     },
     "execution_count": 19,
     "metadata": {},
     "output_type": "execute_result"
    }
   ],
   "source": [
    "cm = confusion_matrix(y_test, y_pred_test)\n",
    "cm"
   ]
  },
  {
   "cell_type": "code",
   "execution_count": 20,
   "id": "b194255a-0b82-459d-bf7c-2b42f751deca",
   "metadata": {},
   "outputs": [
    {
     "data": {
      "image/png": "[encoded data removed]",
      "text/plain": [
       "<Figure size 432x288 with 2 Axes>"
      ]
     },
     "metadata": {
      "needs_background": "light"
     },
     "output_type": "display_data"
    }
   ],
   "source": [
    "sns.heatmap(cm, annot=True, cmap='gray');"
   ]
  },
  {
   "cell_type": "code",
   "execution_count": 21,
   "id": "bf4acdc1-67e1-440c-a996-f8b748f9fddb",
   "metadata": {},
   "outputs": [
    {
     "name": "stdout",
     "output_type": "stream",
     "text": [
      "              precision    recall  f1-score   support\n",
      "\n",
      "           0       1.00      1.00      1.00        37\n",
      "           1       0.86      0.94      0.90        34\n",
      "           2       1.00      1.00      1.00        25\n",
      "           3       0.90      0.96      0.93        46\n",
      "           4       0.95      0.93      0.94        42\n",
      "           5       1.00      1.00      1.00        31\n",
      "           6       1.00      1.00      1.00        30\n",
      "           7       0.93      0.98      0.95        43\n",
      "           8       0.97      0.82      0.89        39\n",
      "           9       0.97      0.94      0.95        33\n",
      "\n",
      "    accuracy                           0.95       360\n",
      "   macro avg       0.96      0.96      0.96       360\n",
      "weighted avg       0.95      0.95      0.95       360\n",
      "\n"
     ]
    }
   ],
   "source": [
    "print(classification_report(y_test, y_pred_test))"
   ]
  },
  {
   "cell_type": "code",
   "execution_count": 22,
   "id": "089410d9-d18f-46af-9989-a4a5268447c8",
   "metadata": {},
   "outputs": [
    {
     "data": {
      "text/plain": [
       "array([[5.82915457e-06, 7.31007142e-05, 4.18183256e-07, 4.17031028e-03,\n",
       "        4.03346120e-05, 7.58359400e-06, 1.61890230e-05, 6.32240669e-07,\n",
       "        9.95667477e-01, 1.81254490e-05],\n",
       "       [5.09035408e-06, 5.71780536e-04, 5.11635418e-06, 4.96125122e-02,\n",
       "        5.34012584e-04, 6.78053705e-02, 2.42968958e-03, 1.77248779e-04,\n",
       "        8.78076848e-01, 7.82331038e-04],\n",
       "       [3.04429090e-08, 7.82189340e-06, 1.79303989e-04, 9.55732243e-01,\n",
       "        1.40485601e-08, 2.52847654e-03, 2.96079599e-09, 3.00259310e-05,\n",
       "        3.88090375e-02, 2.71304408e-03],\n",
       "       [3.35730904e-02, 5.72944339e-04, 4.18079872e-07, 5.21421389e-04,\n",
       "        2.16126329e-04, 9.63614829e-03, 3.10512970e-07, 9.54963752e-01,\n",
       "        9.76569621e-07, 5.14811848e-04],\n",
       "       [2.29841473e-04, 3.67331210e-05, 5.09468202e-09, 2.08597661e-07,\n",
       "        8.86001267e-01, 1.10760873e-01, 1.09520359e-03, 9.48050069e-04,\n",
       "        9.24685951e-04, 3.13144677e-06]])"
      ]
     },
     "execution_count": 22,
     "metadata": {},
     "output_type": "execute_result"
    }
   ],
   "source": [
    "y_proba = model.predict_proba(x_test)\n",
    "y_proba[:5]"
   ]
  },
  {
   "cell_type": "code",
   "execution_count": 23,
   "id": "c25ab07e-b00c-4c2d-a6d2-659607c1f29b",
   "metadata": {},
   "outputs": [
    {
     "name": "stdout",
     "output_type": "stream",
     "text": [
      "[8 8 3 7 4]\n",
      "[8 8 3 7 4]\n"
     ]
    }
   ],
   "source": [
    "y_pred = model.predict(x_test)\n",
    "print(y_pred[:5])\n",
    "print(y_test[:5])"
   ]
  },
  {
   "cell_type": "code",
   "execution_count": 24,
   "id": "2a712ffb-af03-4f69-824d-71134a037aba",
   "metadata": {},
   "outputs": [],
   "source": [
    "# Save model by Pickle Library\n",
    "import pickle"
   ]
  },
  {
   "cell_type": "code",
   "execution_count": 25,
   "id": "c83b7516-2a29-4dd6-8983-9e377f4f67b4",
   "metadata": {},
   "outputs": [],
   "source": [
    "with open('model.bin', 'wb') as f: # open a file by Python as writable and Binary (wb) because data is binary\n",
    "    pickle.dump(model, f)          # write model in f file (model.bin)"
   ]
  },
  {
   "cell_type": "code",
   "execution_count": 29,
   "id": "d63373d0-cbec-421f-b624-49bab584027e",
   "metadata": {},
   "outputs": [],
   "source": [
    "with open('scaler.bin', 'wb') as sf:\n",
    "    pickle.dump(s, sf)"
   ]
  },
  {
   "cell_type": "code",
   "execution_count": null,
   "id": "66cbd6c5-e9a3-4933-b64f-7d0246619d95",
   "metadata": {},
   "outputs": [],
   "source": []
  }
 ],
 "metadata": {
  "kernelspec": {
   "display_name": "Python 3 (ipykernel)",
   "language": "python",
   "name": "python3"
  },
  "language_info": {
   "codemirror_mode": {
    "name": "ipython",
    "version": 3
   },
   "file_extension": ".py",
   "mimetype": "text/x-python",
   "name": "python",
   "nbconvert_exporter": "python",
   "pygments_lexer": "ipython3",
   "version": "3.9.7"
  }
 },
 "nbformat": 4,
 "nbformat_minor": 5
}
