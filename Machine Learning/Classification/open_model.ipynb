{
 "cells": [
  {
   "cell_type": "code",
   "execution_count": 5,
   "id": "bcd4045f-1bb4-4867-b17e-5b5c36eec9ec",
   "metadata": {},
   "outputs": [],
   "source": [
    "%matplotlib inline\n",
    "import matplotlib.pyplot as plt\n",
    "import seaborn as sns\n",
    "import numpy as np\n",
    "from PIL import Image\n",
    "import pickle"
   ]
  },
  {
   "cell_type": "code",
   "execution_count": 12,
   "id": "9d392c34-5ac9-4ba0-acf7-657d6a694842",
   "metadata": {},
   "outputs": [],
   "source": [
    "with open('model.bin','rb') as f:\n",
    "    model = pickle.load(f)\n",
    "\n",
    "with open('scaler.bin', 'rb') as sf:\n",
    "    scaler = pickle.load(sf)"
   ]
  },
  {
   "cell_type": "code",
   "execution_count": 9,
   "id": "3f7f8607-b11f-48d1-ab6e-103102b3f580",
   "metadata": {},
   "outputs": [
    {
     "data": {
      "text/plain": [
       "(8, 8)"
      ]
     },
     "execution_count": 9,
     "metadata": {},
     "output_type": "execute_result"
    }
   ],
   "source": [
    "im = Image.open('2.png').convert('L')\n",
    "im = np.array(im)\n",
    "im.shape"
   ]
  },
  {
   "cell_type": "code",
   "execution_count": 11,
   "id": "f33f793d-2247-4d0f-add3-e647b19bdcff",
   "metadata": {},
   "outputs": [
    {
     "data": {
      "image/png": "[encoded data removed]",
      "text/plain": [
       "<Figure size 72x72 with 1 Axes>"
      ]
     },
     "metadata": {
      "needs_background": "light"
     },
     "output_type": "display_data"
    }
   ],
   "source": [
    "plt.figure(figsize=(1,1))\n",
    "plt.imshow(im, 'gray');"
   ]
  },
  {
   "cell_type": "code",
   "execution_count": 13,
   "id": "b8b7f934-0f6d-483d-a589-c87d541648fa",
   "metadata": {},
   "outputs": [
    {
     "data": {
      "text/plain": [
       "array([[0.        , 0.        , 0.        , 0.0625    , 0.        ,\n",
       "        0.        , 0.        , 0.        , 0.        , 0.        ,\n",
       "        0.125     , 0.        , 3.125     , 4.1875    , 0.        ,\n",
       "        0.16666667, 0.        , 0.0625    , 0.        , 2.3125    ,\n",
       "        7.        , 1.        , 0.0625    , 0.125     , 0.        ,\n",
       "        0.06666667, 0.5       , 8.0625    , 1.5625    , 0.        ,\n",
       "        0.06666667, 0.        , 3.        , 0.        , 6.3125    ,\n",
       "        6.75      , 7.875     , 3.3125    , 0.        , 2.        ,\n",
       "        0.25      , 0.0625    , 6.75      , 4.        , 8.        ,\n",
       "        1.625     , 0.0625    , 0.16666667, 0.66666667, 0.        ,\n",
       "        5.8125    , 7.625     , 1.1875    , 0.        , 0.0625    ,\n",
       "        0.        , 0.        , 0.        , 0.        , 0.        ,\n",
       "        0.        , 0.0625    , 0.        , 0.        ]])"
      ]
     },
     "execution_count": 13,
     "metadata": {},
     "output_type": "execute_result"
    }
   ],
   "source": [
    "im_ = scaler.transform(im.reshape(1, -1)) # convert the scaler into a Matrix (1,64)\n",
    "im_"
   ]
  },
  {
   "cell_type": "code",
   "execution_count": 14,
   "id": "c14d4130-7e24-4456-9fbd-4b3d0e4c6e7f",
   "metadata": {},
   "outputs": [
    {
     "data": {
      "text/plain": [
       "array([1])"
      ]
     },
     "execution_count": 14,
     "metadata": {},
     "output_type": "execute_result"
    }
   ],
   "source": [
    "model.predict(im_)"
   ]
  },
  {
   "cell_type": "code",
   "execution_count": null,
   "id": "0d8b8254-59d0-4a49-9a2d-28f6826faad8",
   "metadata": {},
   "outputs": [],
   "source": []
  }
 ],
 "metadata": {
  "kernelspec": {
   "display_name": "Python 3 (ipykernel)",
   "language": "python",
   "name": "python3"
  },
  "language_info": {
   "codemirror_mode": {
    "name": "ipython",
    "version": 3
   },
   "file_extension": ".py",
   "mimetype": "text/x-python",
   "name": "python",
   "nbconvert_exporter": "python",
   "pygments_lexer": "ipython3",
   "version": "3.9.7"
  }
 },
 "nbformat": 4,
 "nbformat_minor": 5
}
