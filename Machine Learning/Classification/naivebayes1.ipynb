{
 "cells": [
  {
   "cell_type": "code",
   "execution_count": 1,
   "id": "fa8ee1ab-1075-4592-9d97-a86d9d9fdd43",
   "metadata": {},
   "outputs": [],
   "source": [
    "%matplotlib inline\n",
    "import seaborn as sns\n",
    "import numpy as np\n",
    "import pandas as pd\n",
    "from sklearn import preprocessing\n",
    "from sklearn.metrics import classification_report, confusion_matrix\n",
    "from sklearn import metrics\n",
    "\n",
    "import pickle\n",
    "from sklearn.naive_bayes import GaussianNB"
   ]
  },
  {
   "cell_type": "code",
   "execution_count": 2,
   "id": "753e6fee-048b-40b4-ba18-f9bc5c7ffdf0",
   "metadata": {},
   "outputs": [],
   "source": [
    "df = pd.DataFrame({\n",
    "'weather': ['Sunny','Sunny','Overcast','Rainy','Rainy','Rainy','Overcast','Sunny','Sunny', 'Rainy','Sunny','Overcast','Overcast','Rainy'],\n",
    "'temp':['Hot','Hot','Hot','Mild','Cool','Cool','Cool','Mild','Cool','Mild','Mild','Mild','Hot','Mild'],\n",
    "'play':['No','No','Yes','Yes','Yes','No','Yes','No','Yes','Yes','Yes','Yes','Yes','No']})"
   ]
  },
  {
   "cell_type": "code",
   "execution_count": 3,
   "id": "0cc24853-8180-43c1-b597-3d446e3c6487",
   "metadata": {},
   "outputs": [
    {
     "data": {
      "text/html": [
       "<div>\n",
       "<style scoped>\n",
       "    .dataframe tbody tr th:only-of-type {\n",
       "        vertical-align: middle;\n",
       "    }\n",
       "\n",
       "    .dataframe tbody tr th {\n",
       "        vertical-align: top;\n",
       "    }\n",
       "\n",
       "    .dataframe thead th {\n",
       "        text-align: right;\n",
       "    }\n",
       "</style>\n",
       "<table border=\"1\" class=\"dataframe\">\n",
       "  <thead>\n",
       "    <tr style=\"text-align: right;\">\n",
       "      <th></th>\n",
       "      <th>weather</th>\n",
       "      <th>temp</th>\n",
       "      <th>play</th>\n",
       "    </tr>\n",
       "  </thead>\n",
       "  <tbody>\n",
       "    <tr>\n",
       "      <th>0</th>\n",
       "      <td>Sunny</td>\n",
       "      <td>Hot</td>\n",
       "      <td>No</td>\n",
       "    </tr>\n",
       "    <tr>\n",
       "      <th>1</th>\n",
       "      <td>Sunny</td>\n",
       "      <td>Hot</td>\n",
       "      <td>No</td>\n",
       "    </tr>\n",
       "    <tr>\n",
       "      <th>2</th>\n",
       "      <td>Overcast</td>\n",
       "      <td>Hot</td>\n",
       "      <td>Yes</td>\n",
       "    </tr>\n",
       "    <tr>\n",
       "      <th>3</th>\n",
       "      <td>Rainy</td>\n",
       "      <td>Mild</td>\n",
       "      <td>Yes</td>\n",
       "    </tr>\n",
       "    <tr>\n",
       "      <th>4</th>\n",
       "      <td>Rainy</td>\n",
       "      <td>Cool</td>\n",
       "      <td>Yes</td>\n",
       "    </tr>\n",
       "    <tr>\n",
       "      <th>5</th>\n",
       "      <td>Rainy</td>\n",
       "      <td>Cool</td>\n",
       "      <td>No</td>\n",
       "    </tr>\n",
       "    <tr>\n",
       "      <th>6</th>\n",
       "      <td>Overcast</td>\n",
       "      <td>Cool</td>\n",
       "      <td>Yes</td>\n",
       "    </tr>\n",
       "    <tr>\n",
       "      <th>7</th>\n",
       "      <td>Sunny</td>\n",
       "      <td>Mild</td>\n",
       "      <td>No</td>\n",
       "    </tr>\n",
       "    <tr>\n",
       "      <th>8</th>\n",
       "      <td>Sunny</td>\n",
       "      <td>Cool</td>\n",
       "      <td>Yes</td>\n",
       "    </tr>\n",
       "    <tr>\n",
       "      <th>9</th>\n",
       "      <td>Rainy</td>\n",
       "      <td>Mild</td>\n",
       "      <td>Yes</td>\n",
       "    </tr>\n",
       "    <tr>\n",
       "      <th>10</th>\n",
       "      <td>Sunny</td>\n",
       "      <td>Mild</td>\n",
       "      <td>Yes</td>\n",
       "    </tr>\n",
       "    <tr>\n",
       "      <th>11</th>\n",
       "      <td>Overcast</td>\n",
       "      <td>Mild</td>\n",
       "      <td>Yes</td>\n",
       "    </tr>\n",
       "    <tr>\n",
       "      <th>12</th>\n",
       "      <td>Overcast</td>\n",
       "      <td>Hot</td>\n",
       "      <td>Yes</td>\n",
       "    </tr>\n",
       "    <tr>\n",
       "      <th>13</th>\n",
       "      <td>Rainy</td>\n",
       "      <td>Mild</td>\n",
       "      <td>No</td>\n",
       "    </tr>\n",
       "  </tbody>\n",
       "</table>\n",
       "</div>"
      ],
      "text/plain": [
       "     weather  temp play\n",
       "0      Sunny   Hot   No\n",
       "1      Sunny   Hot   No\n",
       "2   Overcast   Hot  Yes\n",
       "3      Rainy  Mild  Yes\n",
       "4      Rainy  Cool  Yes\n",
       "5      Rainy  Cool   No\n",
       "6   Overcast  Cool  Yes\n",
       "7      Sunny  Mild   No\n",
       "8      Sunny  Cool  Yes\n",
       "9      Rainy  Mild  Yes\n",
       "10     Sunny  Mild  Yes\n",
       "11  Overcast  Mild  Yes\n",
       "12  Overcast   Hot  Yes\n",
       "13     Rainy  Mild   No"
      ]
     },
     "execution_count": 3,
     "metadata": {},
     "output_type": "execute_result"
    }
   ],
   "source": [
    "df"
   ]
  },
  {
   "cell_type": "code",
   "execution_count": 8,
   "id": "e91cef12-ce4b-4715-a95d-bd8c6336d4e2",
   "metadata": {},
   "outputs": [],
   "source": [
    "# Encoding\n",
    "\n",
    "le_weather = preprocessing.LabelEncoder()\n",
    "le_weather.fit(df['weather'])\n",
    "df['weather_encoded'] = le_weather.transform(df['weather'])\n",
    "\n",
    "with  open('weather_coder.bin', 'wb') as f:\n",
    "    pickle.dump(le_weather, f)\n",
    "\n",
    "le_temp = preprocessing.LabelEncoder()\n",
    "le_temp.fit(df['temp'])\n",
    "df['temp_encoded'] = le_temp.transform(df['temp'])\n",
    "\n",
    "with open('temp_coder.bin', 'wb') as g:\n",
    "    pickle.dump(le_temp, g)\n",
    "\n",
    "le_target = preprocessing.LabelEncoder()\n",
    "le_target.fit(df['play'])\n",
    "df['target'] = le_target.transform(df['play'])\n",
    "\n",
    "with open('target_coder.bin', 'wb') as h:\n",
    "    pickle.dump(le_target, h)"
   ]
  },
  {
   "cell_type": "code",
   "execution_count": 9,
   "id": "ecf5e601-5f98-4c7c-931b-8a01ae15313f",
   "metadata": {},
   "outputs": [
    {
     "data": {
      "text/html": [
       "<div>\n",
       "<style scoped>\n",
       "    .dataframe tbody tr th:only-of-type {\n",
       "        vertical-align: middle;\n",
       "    }\n",
       "\n",
       "    .dataframe tbody tr th {\n",
       "        vertical-align: top;\n",
       "    }\n",
       "\n",
       "    .dataframe thead th {\n",
       "        text-align: right;\n",
       "    }\n",
       "</style>\n",
       "<table border=\"1\" class=\"dataframe\">\n",
       "  <thead>\n",
       "    <tr style=\"text-align: right;\">\n",
       "      <th></th>\n",
       "      <th>weather</th>\n",
       "      <th>temp</th>\n",
       "      <th>play</th>\n",
       "      <th>weather_encoded</th>\n",
       "      <th>temp_encoded</th>\n",
       "      <th>target</th>\n",
       "    </tr>\n",
       "  </thead>\n",
       "  <tbody>\n",
       "    <tr>\n",
       "      <th>0</th>\n",
       "      <td>Sunny</td>\n",
       "      <td>Hot</td>\n",
       "      <td>No</td>\n",
       "      <td>2</td>\n",
       "      <td>1</td>\n",
       "      <td>0</td>\n",
       "    </tr>\n",
       "    <tr>\n",
       "      <th>1</th>\n",
       "      <td>Sunny</td>\n",
       "      <td>Hot</td>\n",
       "      <td>No</td>\n",
       "      <td>2</td>\n",
       "      <td>1</td>\n",
       "      <td>0</td>\n",
       "    </tr>\n",
       "    <tr>\n",
       "      <th>2</th>\n",
       "      <td>Overcast</td>\n",
       "      <td>Hot</td>\n",
       "      <td>Yes</td>\n",
       "      <td>0</td>\n",
       "      <td>1</td>\n",
       "      <td>1</td>\n",
       "    </tr>\n",
       "    <tr>\n",
       "      <th>3</th>\n",
       "      <td>Rainy</td>\n",
       "      <td>Mild</td>\n",
       "      <td>Yes</td>\n",
       "      <td>1</td>\n",
       "      <td>2</td>\n",
       "      <td>1</td>\n",
       "    </tr>\n",
       "    <tr>\n",
       "      <th>4</th>\n",
       "      <td>Rainy</td>\n",
       "      <td>Cool</td>\n",
       "      <td>Yes</td>\n",
       "      <td>1</td>\n",
       "      <td>0</td>\n",
       "      <td>1</td>\n",
       "    </tr>\n",
       "    <tr>\n",
       "      <th>5</th>\n",
       "      <td>Rainy</td>\n",
       "      <td>Cool</td>\n",
       "      <td>No</td>\n",
       "      <td>1</td>\n",
       "      <td>0</td>\n",
       "      <td>0</td>\n",
       "    </tr>\n",
       "    <tr>\n",
       "      <th>6</th>\n",
       "      <td>Overcast</td>\n",
       "      <td>Cool</td>\n",
       "      <td>Yes</td>\n",
       "      <td>0</td>\n",
       "      <td>0</td>\n",
       "      <td>1</td>\n",
       "    </tr>\n",
       "    <tr>\n",
       "      <th>7</th>\n",
       "      <td>Sunny</td>\n",
       "      <td>Mild</td>\n",
       "      <td>No</td>\n",
       "      <td>2</td>\n",
       "      <td>2</td>\n",
       "      <td>0</td>\n",
       "    </tr>\n",
       "    <tr>\n",
       "      <th>8</th>\n",
       "      <td>Sunny</td>\n",
       "      <td>Cool</td>\n",
       "      <td>Yes</td>\n",
       "      <td>2</td>\n",
       "      <td>0</td>\n",
       "      <td>1</td>\n",
       "    </tr>\n",
       "    <tr>\n",
       "      <th>9</th>\n",
       "      <td>Rainy</td>\n",
       "      <td>Mild</td>\n",
       "      <td>Yes</td>\n",
       "      <td>1</td>\n",
       "      <td>2</td>\n",
       "      <td>1</td>\n",
       "    </tr>\n",
       "    <tr>\n",
       "      <th>10</th>\n",
       "      <td>Sunny</td>\n",
       "      <td>Mild</td>\n",
       "      <td>Yes</td>\n",
       "      <td>2</td>\n",
       "      <td>2</td>\n",
       "      <td>1</td>\n",
       "    </tr>\n",
       "    <tr>\n",
       "      <th>11</th>\n",
       "      <td>Overcast</td>\n",
       "      <td>Mild</td>\n",
       "      <td>Yes</td>\n",
       "      <td>0</td>\n",
       "      <td>2</td>\n",
       "      <td>1</td>\n",
       "    </tr>\n",
       "    <tr>\n",
       "      <th>12</th>\n",
       "      <td>Overcast</td>\n",
       "      <td>Hot</td>\n",
       "      <td>Yes</td>\n",
       "      <td>0</td>\n",
       "      <td>1</td>\n",
       "      <td>1</td>\n",
       "    </tr>\n",
       "    <tr>\n",
       "      <th>13</th>\n",
       "      <td>Rainy</td>\n",
       "      <td>Mild</td>\n",
       "      <td>No</td>\n",
       "      <td>1</td>\n",
       "      <td>2</td>\n",
       "      <td>0</td>\n",
       "    </tr>\n",
       "  </tbody>\n",
       "</table>\n",
       "</div>"
      ],
      "text/plain": [
       "     weather  temp play  weather_encoded  temp_encoded  target\n",
       "0      Sunny   Hot   No                2             1       0\n",
       "1      Sunny   Hot   No                2             1       0\n",
       "2   Overcast   Hot  Yes                0             1       1\n",
       "3      Rainy  Mild  Yes                1             2       1\n",
       "4      Rainy  Cool  Yes                1             0       1\n",
       "5      Rainy  Cool   No                1             0       0\n",
       "6   Overcast  Cool  Yes                0             0       1\n",
       "7      Sunny  Mild   No                2             2       0\n",
       "8      Sunny  Cool  Yes                2             0       1\n",
       "9      Rainy  Mild  Yes                1             2       1\n",
       "10     Sunny  Mild  Yes                2             2       1\n",
       "11  Overcast  Mild  Yes                0             2       1\n",
       "12  Overcast   Hot  Yes                0             1       1\n",
       "13     Rainy  Mild   No                1             2       0"
      ]
     },
     "execution_count": 9,
     "metadata": {},
     "output_type": "execute_result"
    }
   ],
   "source": [
    "df"
   ]
  },
  {
   "cell_type": "code",
   "execution_count": 10,
   "id": "be3db832-4ca4-4a48-9392-2a6fcba523f7",
   "metadata": {},
   "outputs": [],
   "source": [
    "X = df[['weather_encoded','temp_encoded']].values\n",
    "y = df['target'].values"
   ]
  },
  {
   "cell_type": "code",
   "execution_count": 16,
   "id": "1750668d-e9a3-4147-9963-098d9c0ba575",
   "metadata": {},
   "outputs": [
    {
     "data": {
      "text/plain": [
       "(14, 2)"
      ]
     },
     "execution_count": 16,
     "metadata": {},
     "output_type": "execute_result"
    }
   ],
   "source": [
    "X.shape # X is a Nx2 Matrix"
   ]
  },
  {
   "cell_type": "code",
   "execution_count": 18,
   "id": "297a552a-63d4-4f08-a617-e2078273eb36",
   "metadata": {},
   "outputs": [
    {
     "data": {
      "text/plain": [
       "(14,)"
      ]
     },
     "execution_count": 18,
     "metadata": {},
     "output_type": "execute_result"
    }
   ],
   "source": [
    "y.shape # y is a vector with N items"
   ]
  },
  {
   "cell_type": "code",
   "execution_count": 19,
   "id": "d35a52b4-9d49-4ea4-886a-06a7cdb9034d",
   "metadata": {},
   "outputs": [
    {
     "data": {
      "text/plain": [
       "GaussianNB()"
      ]
     },
     "execution_count": 19,
     "metadata": {},
     "output_type": "execute_result"
    }
   ],
   "source": [
    "model = GaussianNB()\n",
    "model.fit(X, y)"
   ]
  },
  {
   "cell_type": "code",
   "execution_count": 21,
   "id": "d2c93676-5929-45fa-932c-b11de647a56c",
   "metadata": {},
   "outputs": [
    {
     "data": {
      "text/plain": [
       "array([[0.70885451, 0.29114549],\n",
       "       [0.70885451, 0.29114549],\n",
       "       [0.00792188, 0.99207812],\n",
       "       [0.32640519, 0.67359481],\n",
       "       [0.24077188, 0.75922812],\n",
       "       [0.24077188, 0.75922812],\n",
       "       [0.00505764, 0.99494236],\n",
       "       [0.70311538, 0.29688462],\n",
       "       [0.60783345, 0.39216655],\n",
       "       [0.32640519, 0.67359481],\n",
       "       [0.70311538, 0.29688462],\n",
       "       [0.00770751, 0.99229249],\n",
       "       [0.00792188, 0.99207812],\n",
       "       [0.32640519, 0.67359481]])"
      ]
     },
     "execution_count": 21,
     "metadata": {},
     "output_type": "execute_result"
    }
   ],
   "source": [
    "model.predict_proba(X) # The first column shows the probability of not going (0) and the second column shows the probability of going (1) to the golf game."
   ]
  },
  {
   "cell_type": "code",
   "execution_count": 22,
   "id": "11660fe1-a9bf-494f-a470-38626dd9c730",
   "metadata": {},
   "outputs": [
    {
     "name": "stdout",
     "output_type": "stream",
     "text": [
      "[0 0 1 1 1 1 1 0 0 1 0 1 1 1]\n",
      "[0 0 1 1 1 0 1 0 1 1 1 1 1 0]\n"
     ]
    }
   ],
   "source": [
    "y_pred = model.predict(X)\n",
    "print(y_pred)\n",
    "print(y)"
   ]
  },
  {
   "cell_type": "code",
   "execution_count": 23,
   "id": "fcb5704d-b9c7-4994-9762-a7124ef56d26",
   "metadata": {},
   "outputs": [
    {
     "data": {
      "text/plain": [
       "0.7142857142857143"
      ]
     },
     "execution_count": 23,
     "metadata": {},
     "output_type": "execute_result"
    }
   ],
   "source": [
    "model.score(X, y)"
   ]
  },
  {
   "cell_type": "code",
   "execution_count": 24,
   "id": "1cc1b985-74a9-4c5a-be73-92d10dc111dc",
   "metadata": {},
   "outputs": [
    {
     "data": {
      "text/plain": [
       "array([[3, 2],\n",
       "       [2, 7]], dtype=int64)"
      ]
     },
     "execution_count": 24,
     "metadata": {},
     "output_type": "execute_result"
    }
   ],
   "source": [
    "cm = confusion_matrix(y, y_pred)\n",
    "cm"
   ]
  },
  {
   "cell_type": "code",
   "execution_count": 27,
   "id": "2abc8122-11d3-4285-b06c-0da514c23a95",
   "metadata": {},
   "outputs": [
    {
     "data": {
      "image/png": "[encoded data removed]",
      "text/plain": [
       "<Figure size 432x288 with 2 Axes>"
      ]
     },
     "metadata": {
      "needs_background": "light"
     },
     "output_type": "display_data"
    }
   ],
   "source": [
    "sns.heatmap(cm, annot=True,cmap='gray');"
   ]
  },
  {
   "cell_type": "code",
   "execution_count": 28,
   "id": "d36aab2a-183c-40d1-9942-846cc15c74c3",
   "metadata": {},
   "outputs": [
    {
     "name": "stdout",
     "output_type": "stream",
     "text": [
      "Accuracy:  0.7142857142857143\n"
     ]
    }
   ],
   "source": [
    "print('Accuracy: ', metrics.accuracy_score(y,y_pred))"
   ]
  },
  {
   "cell_type": "code",
   "execution_count": 29,
   "id": "f8543619-d29b-4faa-a008-9ac419d681a8",
   "metadata": {},
   "outputs": [],
   "source": [
    "with open('naivebayes1.bin', 'wb') as f:\n",
    "    pickle.dump(model, f)"
   ]
  },
  {
   "cell_type": "markdown",
   "id": "2b6c3d6b-0103-4ad3-b334-ea7224607278",
   "metadata": {},
   "source": [
    "---\n",
    "And Now We can Use this model in actual software"
   ]
  },
  {
   "cell_type": "code",
   "execution_count": 31,
   "id": "cf7507da-ede9-493f-9fb0-a7e25d328b23",
   "metadata": {},
   "outputs": [],
   "source": [
    "m = pickle.load(open('naivebayes1.bin', 'rb'))\n",
    "wt = pickle.load(open('weather_coder.bin', 'rb'))\n",
    "tt = pickle.load(open('temp_coder.bin', 'rb'))\n",
    "target_transformer = pickle.load(open('target_coder.bin', 'rb'))"
   ]
  },
  {
   "cell_type": "code",
   "execution_count": 37,
   "id": "17ffd9a5-7bfd-40a3-ab26-f24bbfbc33e7",
   "metadata": {},
   "outputs": [
    {
     "name": "stdin",
     "output_type": "stream",
     "text": [
      "How Weather is ['Sunny', 'Overcast', 'Rainy']:  Overcast\n",
      "Temp ['Hot', 'Mild', 'Cool']:  Mild\n"
     ]
    },
    {
     "name": "stdout",
     "output_type": "stream",
     "text": [
      "──────────────────────────────────────────────────\n",
      "Overcast Mild\n"
     ]
    }
   ],
   "source": [
    "choices = ['Sunny', 'Overcast', 'Rainy']  # Case is evil!\n",
    "temp_choices = ['Hot', 'Mild', 'Cool']  # Case is evil!\n",
    "\n",
    "while True:\n",
    "    w = input(f\"How Weather is {choices}: \")\n",
    "    if w not in choices:\n",
    "        print(\"Bad Choice!\")\n",
    "        continue\n",
    "    \n",
    "    t = input(f\"Temp {temp_choices}: \")\n",
    "    if t not in temp_choices:\n",
    "        print(\"Bad Choice!\")\n",
    "        continue\n",
    "    break\n",
    "print('\\u2500'*50)\n",
    "print(w,t)"
   ]
  },
  {
   "cell_type": "code",
   "execution_count": 38,
   "id": "032aa201-999a-4746-9a8c-eb5aa21ff070",
   "metadata": {},
   "outputs": [
    {
     "name": "stdout",
     "output_type": "stream",
     "text": [
      "[[0 2]]\n"
     ]
    }
   ],
   "source": [
    "w_e = wt.transform(np.array([w]))\n",
    "t_e = tt.transform(np.array([t]))\n",
    "data = np.hstack((w_e,t_e))\n",
    "print(data.reshape(-1,2))"
   ]
  },
  {
   "cell_type": "code",
   "execution_count": 39,
   "id": "62246db1-f9dd-4bd8-b925-3614c49270ce",
   "metadata": {},
   "outputs": [
    {
     "data": {
      "text/plain": [
       "array([1])"
      ]
     },
     "execution_count": 39,
     "metadata": {},
     "output_type": "execute_result"
    }
   ],
   "source": [
    "result = m.predict(data.reshape(-1,2))\n",
    "result"
   ]
  },
  {
   "cell_type": "code",
   "execution_count": 40,
   "id": "95f1f943-2985-45c2-88a0-649c7706be15",
   "metadata": {},
   "outputs": [
    {
     "name": "stdout",
     "output_type": "stream",
     "text": [
      "Answer is: Yes\n"
     ]
    }
   ],
   "source": [
    "r = target_transformer.inverse_transform(result)[0]\n",
    "print(f\"Answer is: {r}\")"
   ]
  },
  {
   "cell_type": "code",
   "execution_count": null,
   "id": "41edf860-d76c-4c66-a9d2-1bdaa4702e91",
   "metadata": {},
   "outputs": [],
   "source": []
  }
 ],
 "metadata": {
  "kernelspec": {
   "display_name": "Python 3 (ipykernel)",
   "language": "python",
   "name": "python3"
  },
  "language_info": {
   "codemirror_mode": {
    "name": "ipython",
    "version": 3
   },
   "file_extension": ".py",
   "mimetype": "text/x-python",
   "name": "python",
   "nbconvert_exporter": "python",
   "pygments_lexer": "ipython3",
   "version": "3.9.7"
  }
 },
 "nbformat": 4,
 "nbformat_minor": 5
}
