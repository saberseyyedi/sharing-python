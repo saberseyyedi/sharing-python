{
 "cells": [
  {
   "cell_type": "code",
   "execution_count": 1,
   "id": "a6155749-546b-41a1-8ddc-3c57e61215a3",
   "metadata": {},
   "outputs": [],
   "source": [
    "%matplotlib inline\n",
    "import seaborn as sns\n",
    "import numpy as np\n",
    "import pandas as pd\n",
    "import matplotlib.pyplot as plt"
   ]
  },
  {
   "cell_type": "code",
   "execution_count": 17,
   "id": "29befab2-efcb-427a-a5d3-ef36d65babda",
   "metadata": {},
   "outputs": [],
   "source": [
    "x1 = np.random.normal(2, 3, (50, 2))\n",
    "x2 = np.random.normal(15, 3, (50, 2))\n",
    "test = np.array([6,10])"
   ]
  },
  {
   "cell_type": "code",
   "execution_count": 19,
   "id": "21e8b26b-7c5b-4649-8fbe-cb68f5af8349",
   "metadata": {},
   "outputs": [
    {
     "data": {
      "image/png": "[encoded data removed]",
      "text/plain": [
       "<Figure size 432x288 with 1 Axes>"
      ]
     },
     "metadata": {
      "needs_background": "light"
     },
     "output_type": "display_data"
    }
   ],
   "source": [
    "plt.scatter(x1[:,0], x1[:,1], c='r', marker='.')\n",
    "plt.scatter(x2[:,0], x2[:,1], c='b', marker='.')\n",
    "plt.scatter(test[0], test[1], c='c', marker='s')\n",
    "plt.scatter(test[0], test[1], facecolors='none', edgecolors='k', s=20000);"
   ]
  },
  {
   "cell_type": "code",
   "execution_count": 20,
   "id": "f9771556-fca6-4176-888a-7d1ee7b4345c",
   "metadata": {},
   "outputs": [],
   "source": [
    "from sklearn.neighbors import KNeighborsClassifier"
   ]
  },
  {
   "cell_type": "code",
   "execution_count": 34,
   "id": "5d001cb6-0442-49d8-bfcd-57cd961bdd4b",
   "metadata": {},
   "outputs": [],
   "source": [
    "x_1 = np.hstack((x1[:,0], x2[:,0])).reshape(-1,1)\n",
    "x_2 = np.hstack((x1[:,1], x2[:,1])).reshape(-1,1)\n",
    "x = np.hstack((x_1, x_2))\n",
    "y = np.hstack((np.full((50,), 0), np.full((50,), 1))) "
   ]
  },
  {
   "cell_type": "code",
   "execution_count": 35,
   "id": "3d98ee3f-2eb3-4a97-b9d2-7b961e61975b",
   "metadata": {},
   "outputs": [
    {
     "data": {
      "text/plain": [
       "KNeighborsClassifier()"
      ]
     },
     "execution_count": 35,
     "metadata": {},
     "output_type": "execute_result"
    }
   ],
   "source": [
    "model = KNeighborsClassifier(n_neighbors=5)\n",
    "model.fit(x, y)"
   ]
  },
  {
   "cell_type": "code",
   "execution_count": 36,
   "id": "b9f3e02d-3d68-4953-8970-977dcb72609c",
   "metadata": {},
   "outputs": [
    {
     "data": {
      "text/plain": [
       "1.0"
      ]
     },
     "execution_count": 36,
     "metadata": {},
     "output_type": "execute_result"
    }
   ],
   "source": [
    "model.score(x, y)"
   ]
  },
  {
   "cell_type": "code",
   "execution_count": 38,
   "id": "db487685-03fd-474d-94f7-85e661e0b8f6",
   "metadata": {},
   "outputs": [
    {
     "data": {
      "text/plain": [
       "array([0])"
      ]
     },
     "execution_count": 38,
     "metadata": {},
     "output_type": "execute_result"
    }
   ],
   "source": [
    "model.predict(test.reshape(1,-1)) # Predict the test is in class 0"
   ]
  },
  {
   "cell_type": "code",
   "execution_count": null,
   "id": "bb7070ae-b125-429a-ac41-60dd8f3dc48c",
   "metadata": {},
   "outputs": [],
   "source": []
  }
 ],
 "metadata": {
  "kernelspec": {
   "display_name": "Python 3 (ipykernel)",
   "language": "python",
   "name": "python3"
  },
  "language_info": {
   "codemirror_mode": {
    "name": "ipython",
    "version": 3
   },
   "file_extension": ".py",
   "mimetype": "text/x-python",
   "name": "python",
   "nbconvert_exporter": "python",
   "pygments_lexer": "ipython3",
   "version": "3.9.7"
  }
 },
 "nbformat": 4,
 "nbformat_minor": 5
}
