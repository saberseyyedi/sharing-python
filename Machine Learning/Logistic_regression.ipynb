{
 "cells": [
  {
   "cell_type": "code",
   "execution_count": 1,
   "id": "e181c20e-8ba8-4648-8133-7b7c70d1c0ba",
   "metadata": {},
   "outputs": [],
   "source": [
    "import matplotlib.pyplot as plt\n",
    "import numpy as np\n",
    "import seaborn as sns\n",
    "from sklearn.linear_model import LogisticRegression\n",
    "from sklearn.metrics import classification_report, confusion_matrix\n",
    "from sklearn.metrics import roc_auc_score, auc, roc_curve"
   ]
  },
  {
   "cell_type": "code",
   "execution_count": 2,
   "id": "f9be160f-a626-48f3-855f-369e85264a7e",
   "metadata": {},
   "outputs": [
    {
     "data": {
      "text/plain": [
       "array([[ 0,  0],\n",
       "       [ 1,  0],\n",
       "       [ 2,  0],\n",
       "       [ 3,  0],\n",
       "       [ 4,  0],\n",
       "       [ 5,  0],\n",
       "       [ 6,  0],\n",
       "       [ 7,  0],\n",
       "       [ 8,  1],\n",
       "       [ 9,  1],\n",
       "       [10,  1],\n",
       "       [11,  1],\n",
       "       [12,  1],\n",
       "       [13,  1],\n",
       "       [14,  1],\n",
       "       [15,  1],\n",
       "       [16,  1],\n",
       "       [17,  1],\n",
       "       [18,  1],\n",
       "       [19,  1]])"
      ]
     },
     "execution_count": 2,
     "metadata": {},
     "output_type": "execute_result"
    }
   ],
   "source": [
    "x = np.arange(20).reshape(-1, 1)\n",
    "# LabelEncoded\n",
    "# Yes -> 1\n",
    "# No  -> 0\n",
    "y = np.array([0, 0, 0, 0, 0, 0, 0, 0, 1, 1, 1, 1, 1, 1, 1, 1, 1, 1, 1, 1])\n",
    "np.hstack((x,y.reshape(-1,1)))\n",
    "# Single Variable - Single Target Classification"
   ]
  },
  {
   "cell_type": "code",
   "execution_count": 4,
   "id": "1632da96-c92e-48d1-aa98-a1653fd8781e",
   "metadata": {},
   "outputs": [
    {
     "data": {
      "text/plain": [
       "LogisticRegression(random_state=0, solver='liblinear')"
      ]
     },
     "execution_count": 4,
     "metadata": {},
     "output_type": "execute_result"
    }
   ],
   "source": [
    "model = LogisticRegression(solver='liblinear', penalty='l2', random_state=0)\n",
    "model.fit(x, y)"
   ]
  },
  {
   "cell_type": "code",
   "execution_count": 5,
   "id": "efe999b2-f53f-405a-a567-2789fafa668d",
   "metadata": {},
   "outputs": [
    {
     "data": {
      "text/plain": [
       "array([0, 1])"
      ]
     },
     "execution_count": 5,
     "metadata": {},
     "output_type": "execute_result"
    }
   ],
   "source": [
    "model.classes_"
   ]
  },
  {
   "cell_type": "code",
   "execution_count": 7,
   "id": "1dbca184-2dbe-4f0b-87a1-4131ef22a741",
   "metadata": {},
   "outputs": [
    {
     "data": {
      "text/plain": [
       "array([[0.84535736, 0.15464264],\n",
       "       [0.7994534 , 0.2005466 ],\n",
       "       [0.74404897, 0.25595103],\n",
       "       [0.67947492, 0.32052508],\n",
       "       [0.60720984, 0.39279016],\n",
       "       [0.52992369, 0.47007631],\n",
       "       [0.45117535, 0.54882465],\n",
       "       [0.37479888, 0.62520112],\n",
       "       [0.30418564, 0.69581436],\n",
       "       [0.24173229, 0.75826771],\n",
       "       [0.18862544, 0.81137456],\n",
       "       [0.14495541, 0.85504459],\n",
       "       [0.11002474, 0.88997526],\n",
       "       [0.0826974 , 0.9173026 ],\n",
       "       [0.06168701, 0.93831299],\n",
       "       [0.04574838, 0.95425162],\n",
       "       [0.03377969, 0.96622031],\n",
       "       [0.02486068, 0.97513932],\n",
       "       [0.01825211, 0.98174789],\n",
       "       [0.01337616, 0.98662384]])"
      ]
     },
     "execution_count": 7,
     "metadata": {},
     "output_type": "execute_result"
    }
   ],
   "source": [
    "model.predict_proba(x)"
   ]
  },
  {
   "cell_type": "code",
   "execution_count": 8,
   "id": "6797ace8-d469-4574-9003-324b1b399238",
   "metadata": {},
   "outputs": [
    {
     "data": {
      "text/plain": [
       "array([0, 0, 0, 0, 0, 0, 1, 1, 1, 1, 1, 1, 1, 1, 1, 1, 1, 1, 1, 1],\n",
       "      dtype=int64)"
      ]
     },
     "execution_count": 8,
     "metadata": {},
     "output_type": "execute_result"
    }
   ],
   "source": [
    "np.argmax(model.predict_proba(x), axis=1)"
   ]
  },
  {
   "cell_type": "code",
   "execution_count": 9,
   "id": "bdb98cbd-2ff1-48d2-9970-5eb4223e5e66",
   "metadata": {},
   "outputs": [
    {
     "name": "stdout",
     "output_type": "stream",
     "text": [
      "[0 0 0 0 0 0 1 1 1 1 1 1 1 1 1 1 1 1 1 1]\n",
      "[0 0 0 0 0 0 0 0 1 1 1 1 1 1 1 1 1 1 1 1]\n"
     ]
    }
   ],
   "source": [
    "print(model.predict(x))\n",
    "print(y)"
   ]
  },
  {
   "cell_type": "code",
   "execution_count": 10,
   "id": "b53ec8b1-c080-4bb2-a9b1-27690a21a66c",
   "metadata": {},
   "outputs": [
    {
     "data": {
      "text/plain": [
       "0.9"
      ]
     },
     "execution_count": 10,
     "metadata": {},
     "output_type": "execute_result"
    }
   ],
   "source": [
    "# Here score is Corrects over Total (Accuracy)\n",
    "model.score(x, y)"
   ]
  },
  {
   "cell_type": "code",
   "execution_count": 11,
   "id": "94d8a793-f107-4afb-8726-5910a955c3d8",
   "metadata": {},
   "outputs": [],
   "source": [
    "y_p = model.predict(x)"
   ]
  },
  {
   "cell_type": "code",
   "execution_count": 12,
   "id": "bfc29b26-88b9-40b1-881c-8528cba9485a",
   "metadata": {},
   "outputs": [
    {
     "data": {
      "text/plain": [
       "array([[ 6,  2],\n",
       "       [ 0, 12]], dtype=int64)"
      ]
     },
     "execution_count": 12,
     "metadata": {},
     "output_type": "execute_result"
    }
   ],
   "source": [
    "cm = confusion_matrix(y, y_p)\n",
    "cm"
   ]
  },
  {
   "cell_type": "code",
   "execution_count": 13,
   "id": "50eced19-7c68-4c01-8110-d7b005d6f0bb",
   "metadata": {},
   "outputs": [
    {
     "data": {
      "image/png": "[encoded data removed]",
      "text/plain": [
       "<Figure size 432x288 with 2 Axes>"
      ]
     },
     "metadata": {
      "needs_background": "light"
     },
     "output_type": "display_data"
    }
   ],
   "source": [
    "cm_normal = cm / cm.sum(axis=1).reshape(-1,1)\n",
    "sns.heatmap(cm_normal, annot=True, cmap='winter');"
   ]
  },
  {
   "cell_type": "code",
   "execution_count": 14,
   "id": "9212bc4b-0e22-4203-a96b-423e16bdd9a1",
   "metadata": {},
   "outputs": [
    {
     "name": "stdout",
     "output_type": "stream",
     "text": [
      "              precision    recall  f1-score   support\n",
      "\n",
      "           0       1.00      0.75      0.86         8\n",
      "           1       0.86      1.00      0.92        12\n",
      "\n",
      "    accuracy                           0.90        20\n",
      "   macro avg       0.93      0.88      0.89        20\n",
      "weighted avg       0.91      0.90      0.90        20\n",
      "\n"
     ]
    }
   ],
   "source": [
    "print(classification_report(y, y_p))"
   ]
  },
  {
   "cell_type": "code",
   "execution_count": 15,
   "id": "c51ac0e8-d5f5-436d-8e91-64e2d3c11200",
   "metadata": {},
   "outputs": [
    {
     "data": {
      "text/plain": [
       "1.0"
      ]
     },
     "execution_count": 15,
     "metadata": {},
     "output_type": "execute_result"
    }
   ],
   "source": [
    "TP_0 = 6\n",
    "FP_0 = 0\n",
    "\n",
    "p_0 = TP_0 / (TP_0+FP_0)\n",
    "p_0"
   ]
  },
  {
   "cell_type": "code",
   "execution_count": 16,
   "id": "d060bba0-00f6-43e7-bf74-5fc861e8706e",
   "metadata": {},
   "outputs": [
    {
     "data": {
      "text/plain": [
       "0.8571428571428571"
      ]
     },
     "execution_count": 16,
     "metadata": {},
     "output_type": "execute_result"
    }
   ],
   "source": [
    "TP_1 = 12\n",
    "FP_1 = 2\n",
    "\n",
    "p_1 = TP_1 / (TP_1+FP_1)\n",
    "p_1"
   ]
  },
  {
   "cell_type": "code",
   "execution_count": 19,
   "id": "4c4fcc93-2589-4459-980c-54c77f798fc5",
   "metadata": {},
   "outputs": [
    {
     "data": {
      "text/plain": [
       "array([[0.84535736, 0.15464264],\n",
       "       [0.7994534 , 0.2005466 ],\n",
       "       [0.74404897, 0.25595103],\n",
       "       [0.67947492, 0.32052508],\n",
       "       [0.60720984, 0.39279016],\n",
       "       [0.52992369, 0.47007631],\n",
       "       [0.45117535, 0.54882465],\n",
       "       [0.37479888, 0.62520112],\n",
       "       [0.30418564, 0.69581436],\n",
       "       [0.24173229, 0.75826771],\n",
       "       [0.18862544, 0.81137456],\n",
       "       [0.14495541, 0.85504459],\n",
       "       [0.11002474, 0.88997526],\n",
       "       [0.0826974 , 0.9173026 ],\n",
       "       [0.06168701, 0.93831299],\n",
       "       [0.04574838, 0.95425162],\n",
       "       [0.03377969, 0.96622031],\n",
       "       [0.02486068, 0.97513932],\n",
       "       [0.01825211, 0.98174789],\n",
       "       [0.01337616, 0.98662384]])"
      ]
     },
     "execution_count": 19,
     "metadata": {},
     "output_type": "execute_result"
    }
   ],
   "source": [
    "y_proba = model.predict_proba(x)\n",
    "y_proba"
   ]
  },
  {
   "cell_type": "code",
   "execution_count": 20,
   "id": "86022e29-20f4-4afa-98f3-f24630370d8c",
   "metadata": {},
   "outputs": [
    {
     "data": {
      "text/plain": [
       "array([0.   , 0.125, 1.   , 1.   ])"
      ]
     },
     "metadata": {},
     "output_type": "display_data"
    },
    {
     "data": {
      "text/plain": [
       "array([0., 0., 0., 1.])"
      ]
     },
     "metadata": {},
     "output_type": "display_data"
    },
    {
     "name": "stdout",
     "output_type": "stream",
     "text": [
      "1.0\n"
     ]
    }
   ],
   "source": [
    "# ROC: Receiver Operating Characteristic (TPR/FPR)\n",
    "# AUC: Area Under the Curve\n",
    "# ROC of Class 0\n",
    "fpr, tpr, _ = roc_curve(y, y_proba[:,0], pos_label=0, drop_intermediate=True)\n",
    "roc_auc = auc(fpr, tpr)\n",
    "display(tpr)\n",
    "display(fpr)\n",
    "print(roc_auc)"
   ]
  },
  {
   "cell_type": "code",
   "execution_count": 21,
   "id": "7e072917-c50e-4dca-8e23-6a9a3c774c5f",
   "metadata": {},
   "outputs": [
    {
     "data": {
      "image/png": "[encoded data removed]",
      "text/plain": [
       "<Figure size 432x288 with 1 Axes>"
      ]
     },
     "metadata": {
      "needs_background": "light"
     },
     "output_type": "display_data"
    }
   ],
   "source": [
    "plt.plot([0,1], [0,1], '--')\n",
    "plt.plot(fpr, tpr)\n",
    "plt.xlabel(\"FPR\")\n",
    "plt.ylabel(\"TPR\")\n",
    "plt.title(\"AUC: {:.2f}\".format(roc_auc))\n",
    "plt.show()"
   ]
  },
  {
   "cell_type": "code",
   "execution_count": null,
   "id": "e8afe2e8-fe97-4eb6-9e65-49875106c99c",
   "metadata": {},
   "outputs": [],
   "source": []
  }
 ],
 "metadata": {
  "kernelspec": {
   "display_name": "Python 3 (ipykernel)",
   "language": "python",
   "name": "python3"
  },
  "language_info": {
   "codemirror_mode": {
    "name": "ipython",
    "version": 3
   },
   "file_extension": ".py",
   "mimetype": "text/x-python",
   "name": "python",
   "nbconvert_exporter": "python",
   "pygments_lexer": "ipython3",
   "version": "3.9.7"
  }
 },
 "nbformat": 4,
 "nbformat_minor": 5
}
