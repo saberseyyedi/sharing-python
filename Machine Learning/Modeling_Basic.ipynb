{
 "cells": [
  {
   "cell_type": "code",
   "execution_count": 2,
   "id": "27ab8d60-5c9e-424e-9253-ac942d8e80eb",
   "metadata": {},
   "outputs": [],
   "source": [
    "%matplotlib inline\n",
    "\n",
    "import numpy as np\n",
    "import matplotlib.pyplot as plt"
   ]
  },
  {
   "cell_type": "code",
   "execution_count": 3,
   "id": "7225da70-e32a-4fce-81a1-e50545eeb599",
   "metadata": {},
   "outputs": [
    {
     "data": {
      "text/plain": [
       "array([ 1,  2,  3,  4,  5,  6,  7,  8,  9, 10, 11, 12, 13, 14, 15, 16, 17,\n",
       "       18, 19, 20, 21, 22, 23, 24, 25, 26, 27, 28, 29, 30, 31, 32, 33, 34,\n",
       "       35, 36, 37, 38, 39, 40, 41, 42, 43, 44, 45, 46, 47, 48, 49])"
      ]
     },
     "execution_count": 3,
     "metadata": {},
     "output_type": "execute_result"
    }
   ],
   "source": [
    "x = np.arange(1,50)\n",
    "x"
   ]
  },
  {
   "cell_type": "code",
   "execution_count": 59,
   "id": "ab65ab0f-e799-40aa-91fc-02e5b0a3b8be",
   "metadata": {},
   "outputs": [
    {
     "data": {
      "text/plain": [
       "array([ -2.79861724,   0.18419083,  23.13765113,  15.39999634,\n",
       "        39.29780082,   8.5383577 ,  31.16188311,  49.35140199,\n",
       "        37.05808169,  42.80248017,  56.23848069,  30.70134126,\n",
       "        42.05081277,  42.4796006 ,  68.4357569 ,  50.83961549,\n",
       "        40.16320769,  79.80749835,  76.02745731,  53.58311573,\n",
       "        64.60184657,  90.55780314,  93.48316649,  66.06742957,\n",
       "        99.36529532, 102.81663049,  82.00248573,  81.50671105,\n",
       "        86.70052526,  92.69874497, 111.68082195, 122.72664518,\n",
       "       102.43133109, 104.8905425 , 128.30432985, 121.02700011,\n",
       "       101.36815339, 118.25789426, 135.47334119, 110.2771857 ,\n",
       "       145.11996601, 147.38881821, 128.35983846, 133.86021957,\n",
       "       158.39508891, 145.2221882 , 136.46992849, 167.94023216,\n",
       "       143.29606456])"
      ]
     },
     "execution_count": 59,
     "metadata": {},
     "output_type": "execute_result"
    }
   ],
   "source": [
    "y = 3*x+8+np.random.uniform(-20,20,(49,))\n",
    "y"
   ]
  },
  {
   "cell_type": "code",
   "execution_count": 6,
   "id": "c6eb2f9e-73e4-47d9-bdc0-f351eaddd2c5",
   "metadata": {},
   "outputs": [
    {
     "data": {
      "text/plain": [
       "78.84330124779224"
      ]
     },
     "execution_count": 6,
     "metadata": {},
     "output_type": "execute_result"
    }
   ],
   "source": [
    "m = np.mean(y)\n",
    "m"
   ]
  },
  {
   "cell_type": "code",
   "execution_count": 8,
   "id": "04a108e6-85af-4705-b257-7d7adaf4f060",
   "metadata": {},
   "outputs": [
    {
     "data": {
      "image/png": "[encoded data removed]",
      "text/plain": [
       "<Figure size 432x288 with 1 Axes>"
      ]
     },
     "metadata": {
      "needs_background": "light"
     },
     "output_type": "display_data"
    }
   ],
   "source": [
    "plt.scatter(x,y,marker='.')\n",
    "plt.plot([0,50],[m,m],c='r');"
   ]
  },
  {
   "cell_type": "code",
   "execution_count": 41,
   "id": "27695e7b-1cb1-4a81-8b87-7d0114bb60e1",
   "metadata": {},
   "outputs": [
    {
     "data": {
      "image/png": "[encoded data removed]",
      "text/plain": [
       "<Figure size 432x288 with 1 Axes>"
      ]
     },
     "metadata": {
      "needs_background": "light"
     },
     "output_type": "display_data"
    }
   ],
   "source": [
    "# Calculate the error relative to the mean\n",
    "y_r = m - y\n",
    "plt.scatter(x, y_r)\n",
    "plt.plot([0,50],[0,0],c='r',alpha=0.8);"
   ]
  },
  {
   "cell_type": "code",
   "execution_count": 38,
   "id": "882a18c9-f1c5-42d9-af94-608c57c6d363",
   "metadata": {},
   "outputs": [
    {
     "data": {
      "image/png": "[encoded data removed]",
      "text/plain": [
       "<Figure size 432x288 with 1 Axes>"
      ]
     },
     "metadata": {
      "needs_background": "light"
     },
     "output_type": "display_data"
    }
   ],
   "source": [
    "z = np.random.randint(1,10, (50,2))\n",
    "plt.scatter(z[:,0], z[:,1]);"
   ]
  },
  {
   "cell_type": "markdown",
   "id": "1728bfb8-2e2e-457d-a5b9-0a18b77ddc7d",
   "metadata": {},
   "source": [
    "# Creating a Simple Linear Model\n",
    "$f(x_1, x_2, ...) = \\alpha x_1 + \\beta x_2 + ... + C $ \n",
    "- To create a model add <b>LinearRegression</b> Class from <b>linear_model</b> library in <b>Scikit-Learn</b> Package:\n",
    "<p style=\"color:red\">from sklearn.linear_model import LinearRegression</p>\n",
    "- Then create an object (model) of the LinearRegression Class:\n",
    "<p style=\"color:red\">model = LinearRegression()</p>\n",
    "- Train the model: Using fit function to train the model:\n",
    "<p style=\"color:red\">model.fit(x,y)</p> - where x is feature's matrix[m*n] and y is target matrix[m*1]\n",
    "- Then Prectict\n",
    "<p style=\"color:red\">y_p = model.predict(x)</p>"
   ]
  },
  {
   "cell_type": "code",
   "execution_count": 42,
   "id": "ef479a85-632f-4e0a-931d-42b4e9017291",
   "metadata": {},
   "outputs": [
    {
     "name": "stdout",
     "output_type": "stream",
     "text": [
      "Requirement already satisfied: scikit-learn in c:\\users\\saber\\anaconda3\\lib\\site-packages (0.24.2)\n",
      "Requirement already satisfied: numpy>=1.13.3 in c:\\users\\saber\\anaconda3\\lib\\site-packages (from scikit-learn) (1.20.3)\n",
      "Requirement already satisfied: joblib>=0.11 in c:\\users\\saber\\anaconda3\\lib\\site-packages (from scikit-learn) (1.1.0)\n",
      "Requirement already satisfied: threadpoolctl>=2.0.0 in c:\\users\\saber\\anaconda3\\lib\\site-packages (from scikit-learn) (2.2.0)\n",
      "Requirement already satisfied: scipy>=0.19.1 in c:\\users\\saber\\anaconda3\\lib\\site-packages (from scikit-learn) (1.7.1)\n"
     ]
    }
   ],
   "source": [
    "! pip install scikit-learn"
   ]
  },
  {
   "cell_type": "code",
   "execution_count": 45,
   "id": "5013061f-4a26-448f-8bd5-29792e30e5c7",
   "metadata": {},
   "outputs": [],
   "source": [
    "# To create a model add LinearRegression Class from linear_model library in Scikit-Learn Package\n",
    "from sklearn.linear_model import LinearRegression"
   ]
  },
  {
   "cell_type": "code",
   "execution_count": 60,
   "id": "1ebbbc62-ea6d-431d-8458-be8be9ab53e9",
   "metadata": {},
   "outputs": [],
   "source": [
    "model = LinearRegression() # create an object"
   ]
  },
  {
   "cell_type": "code",
   "execution_count": 61,
   "id": "73ad22e4-9172-4de2-8f9e-d8eb52e7602f",
   "metadata": {},
   "outputs": [],
   "source": [
    "model.fit(x.reshape(-1,1),y); # Using fit function to train the model"
   ]
  },
  {
   "cell_type": "code",
   "execution_count": 62,
   "id": "3292db55-3a55-464d-9616-7b39b653c861",
   "metadata": {},
   "outputs": [
    {
     "data": {
      "text/plain": [
       "array([3.03022571])"
      ]
     },
     "execution_count": 62,
     "metadata": {},
     "output_type": "execute_result"
    }
   ],
   "source": [
    "model.coef_ # shows the Coefficient matrix e.g in f(x)=ax+b --> shows a"
   ]
  },
  {
   "cell_type": "code",
   "execution_count": 63,
   "id": "3abac51b-cfd4-40f4-a2d9-309956eec56f",
   "metadata": {},
   "outputs": [
    {
     "data": {
      "text/plain": [
       "8.05558859714256"
      ]
     },
     "execution_count": 63,
     "metadata": {},
     "output_type": "execute_result"
    }
   ],
   "source": [
    "model.intercept_ # represents the y-intercept"
   ]
  },
  {
   "cell_type": "code",
   "execution_count": 65,
   "id": "24ab6087-aab9-45ad-b4c4-210900f0eb4f",
   "metadata": {},
   "outputs": [],
   "source": [
    "# Predict\n",
    "y_p = model.predict(x.reshape(-1,1))"
   ]
  },
  {
   "cell_type": "code",
   "execution_count": 67,
   "id": "5ba7c0a6-9e65-4592-848b-150fca6d877f",
   "metadata": {},
   "outputs": [],
   "source": [
    "r = y_p - y"
   ]
  },
  {
   "cell_type": "code",
   "execution_count": 70,
   "id": "9d7e54ad-dcef-429a-9350-01a2f784d33c",
   "metadata": {},
   "outputs": [
    {
     "data": {
      "text/plain": [
       "array([[ -2.79861724,  11.08581431,  13.88443155],\n",
       "       [  0.18419083,  14.11604003,  13.9318492 ],\n",
       "       [ 23.13765113,  17.14626574,  -5.99138538],\n",
       "       [ 15.39999634,  20.17649146,   4.77649512],\n",
       "       [ 39.29780082,  23.20671717, -16.09108365],\n",
       "       [  8.5383577 ,  26.23694289,  17.69858518],\n",
       "       [ 31.16188311,  29.2671686 ,  -1.89471451],\n",
       "       [ 49.35140199,  32.29739431, -17.05400768],\n",
       "       [ 37.05808169,  35.32762003,  -1.73046166],\n",
       "       [ 42.80248017,  38.35784574,  -4.44463443],\n",
       "       [ 56.23848069,  41.38807146, -14.85040924],\n",
       "       [ 30.70134126,  44.41829717,  13.71695591],\n",
       "       [ 42.05081277,  47.44852289,   5.39771011],\n",
       "       [ 42.4796006 ,  50.4787486 ,   7.999148  ],\n",
       "       [ 68.4357569 ,  53.50897432, -14.92678259],\n",
       "       [ 50.83961549,  56.53920003,   5.69958454],\n",
       "       [ 40.16320769,  59.56942575,  19.40621806],\n",
       "       [ 79.80749835,  62.59965146, -17.20784689],\n",
       "       [ 76.02745731,  65.62987718, -10.39758013],\n",
       "       [ 53.58311573,  68.66010289,  15.07698716],\n",
       "       [ 64.60184657,  71.69032861,   7.08848204],\n",
       "       [ 90.55780314,  74.72055432, -15.83724882],\n",
       "       [ 93.48316649,  77.75078003, -15.73238646],\n",
       "       [ 66.06742957,  80.78100575,  14.71357617],\n",
       "       [ 99.36529532,  83.81123146, -15.55406386],\n",
       "       [102.81663049,  86.84145718, -15.97517331],\n",
       "       [ 82.00248573,  89.87168289,   7.86919716],\n",
       "       [ 81.50671105,  92.90190861,  11.39519756],\n",
       "       [ 86.70052526,  95.93213432,   9.23160906],\n",
       "       [ 92.69874497,  98.96236004,   6.26361507],\n",
       "       [111.68082195, 101.99258575,  -9.68823619],\n",
       "       [122.72664518, 105.02281147, -17.70383371],\n",
       "       [102.43133109, 108.05303718,   5.62170609],\n",
       "       [104.8905425 , 111.0832629 ,   6.1927204 ],\n",
       "       [128.30432985, 114.11348861, -14.19084124],\n",
       "       [121.02700011, 117.14371433,  -3.88328579],\n",
       "       [101.36815339, 120.17394004,  18.80578665],\n",
       "       [118.25789426, 123.20416575,   4.94627149],\n",
       "       [135.47334119, 126.23439147,  -9.23894973],\n",
       "       [110.2771857 , 129.26461718,  18.98743149],\n",
       "       [145.11996601, 132.2948429 , -12.82512311],\n",
       "       [147.38881821, 135.32506861, -12.0637496 ],\n",
       "       [128.35983846, 138.35529433,   9.99545587],\n",
       "       [133.86021957, 141.38552004,   7.52530047],\n",
       "       [158.39508891, 144.41574576, -13.97934315],\n",
       "       [145.2221882 , 147.44597147,   2.22378327],\n",
       "       [136.46992849, 150.47619719,  14.0062687 ],\n",
       "       [167.94023216, 153.5064229 , -14.43380926],\n",
       "       [143.29606456, 156.53664862,  13.24058405]])"
      ]
     },
     "execution_count": 70,
     "metadata": {},
     "output_type": "execute_result"
    }
   ],
   "source": [
    "np.hstack((y.reshape(-1,1),y_p.reshape(-1,1),r.reshape(-1,1)))"
   ]
  },
  {
   "cell_type": "code",
   "execution_count": 71,
   "id": "d17f0c44-22a9-4286-9ceb-0a22265aa808",
   "metadata": {},
   "outputs": [
    {
     "data": {
      "image/png": "[encoded data removed]",
      "text/plain": [
       "<Figure size 432x288 with 1 Axes>"
      ]
     },
     "metadata": {
      "needs_background": "light"
     },
     "output_type": "display_data"
    }
   ],
   "source": [
    "plt.scatter(x,r);"
   ]
  },
  {
   "cell_type": "code",
   "execution_count": 72,
   "id": "f7ccbe0f-209c-4129-abc7-11353b8473d6",
   "metadata": {},
   "outputs": [
    {
     "data": {
      "image/png": "[encoded data removed]",
      "text/plain": [
       "<Figure size 432x288 with 1 Axes>"
      ]
     },
     "metadata": {
      "needs_background": "light"
     },
     "output_type": "display_data"
    }
   ],
   "source": [
    "plt.hist(r, bins=30);"
   ]
  },
  {
   "cell_type": "markdown",
   "id": "eb536e9f-899c-47ec-bf4d-c09ce1e80d21",
   "metadata": {},
   "source": [
    "## <font color=\"red\">Important</font>\n",
    "- model functions get x and true y e.g: model.score(x,y) because they use x to calculate y predict (y_p)\n",
    "- functions such as mean_absolute_error, mean_squared_error and r2_score get true y and predict y (y_p)"
   ]
  },
  {
   "cell_type": "code",
   "execution_count": 74,
   "id": "d6d5a92a-ae90-49cb-bd3f-ad9477ef065f",
   "metadata": {},
   "outputs": [
    {
     "data": {
      "text/plain": [
       "0.9236056208070819"
      ]
     },
     "execution_count": 74,
     "metadata": {},
     "output_type": "execute_result"
    }
   ],
   "source": [
    "model.score(x.reshape(-1,1),y) "
   ]
  },
  {
   "cell_type": "code",
   "execution_count": 75,
   "id": "1be29460-744f-4615-8f78-741356fed308",
   "metadata": {},
   "outputs": [],
   "source": [
    "from sklearn.metrics import mean_absolute_error\n",
    "from sklearn.metrics import mean_squared_error\n",
    "from sklearn.metrics import r2_score"
   ]
  },
  {
   "cell_type": "code",
   "execution_count": 76,
   "id": "145a7b0c-76ab-4ceb-bb8b-4668a5044e51",
   "metadata": {},
   "outputs": [
    {
     "data": {
      "text/plain": [
       "11.252855117496784"
      ]
     },
     "execution_count": 76,
     "metadata": {},
     "output_type": "execute_result"
    }
   ],
   "source": [
    "mean_absolute_error(y,y_p)"
   ]
  },
  {
   "cell_type": "code",
   "execution_count": 77,
   "id": "2476fe2b-889f-423a-955f-dd1806655b83",
   "metadata": {},
   "outputs": [
    {
     "data": {
      "text/plain": [
       "151.89895743686017"
      ]
     },
     "execution_count": 77,
     "metadata": {},
     "output_type": "execute_result"
    }
   ],
   "source": [
    "mean_squared_error(y,y_p)"
   ]
  },
  {
   "cell_type": "code",
   "execution_count": 78,
   "id": "eec96027-8333-43bc-9ac3-aff7b0b25601",
   "metadata": {},
   "outputs": [
    {
     "data": {
      "text/plain": [
       "0.9236056208070819"
      ]
     },
     "execution_count": 78,
     "metadata": {},
     "output_type": "execute_result"
    }
   ],
   "source": [
    "r2_score(y,y_p)"
   ]
  },
  {
   "cell_type": "code",
   "execution_count": 82,
   "id": "8c222ae2-08b5-4cfa-b114-2777a0e80168",
   "metadata": {},
   "outputs": [
    {
     "data": {
      "image/png": "[encoded data removed]",
      "text/plain": [
       "<Figure size 432x288 with 1 Axes>"
      ]
     },
     "metadata": {
      "needs_background": "light"
     },
     "output_type": "display_data"
    }
   ],
   "source": [
    "plt.scatter(x, y, marker='.');\n",
    "plt.plot([0,50], [m, m], 'r', alpha=0.7);\n",
    "plt.scatter(x, y_p, marker='.', c='g');\n",
    "plt.legend(['mean', 'y', 'predict']);"
   ]
  },
  {
   "cell_type": "code",
   "execution_count": 81,
   "id": "641e10bb-4cf7-4776-8d2f-b8e73b1a3997",
   "metadata": {},
   "outputs": [
    {
     "data": {
      "text/plain": [
       "array([189.86913148])"
      ]
     },
     "execution_count": 81,
     "metadata": {},
     "output_type": "execute_result"
    }
   ],
   "source": [
    "point = np.array([60]).reshape(-1,1)\n",
    "ypoint = model.predict(point)\n",
    "ypoint"
   ]
  },
  {
   "cell_type": "code",
   "execution_count": 85,
   "id": "27eacdf0-5f30-4450-aacf-27462f20beb0",
   "metadata": {},
   "outputs": [
    {
     "data": {
      "image/png": "[encoded data removed]",
      "text/plain": [
       "<Figure size 432x288 with 1 Axes>"
      ]
     },
     "metadata": {
      "needs_background": "light"
     },
     "output_type": "display_data"
    }
   ],
   "source": [
    "plt.scatter(x, y, marker='.');\n",
    "plt.plot([0,50], [m, m], 'r', alpha=0.7);\n",
    "plt.scatter(x, y_p, marker='.', c='g');\n",
    "plt.scatter(point, ypoint, marker='s', c='m');\n",
    "plt.legend(['mean', 'y', 'predict']);"
   ]
  },
  {
   "cell_type": "code",
   "execution_count": null,
   "id": "8beaaf9e-fba0-4d66-8a61-a33c21ccd3bb",
   "metadata": {},
   "outputs": [],
   "source": []
  }
 ],
 "metadata": {
  "kernelspec": {
   "display_name": "Python 3 (ipykernel)",
   "language": "python",
   "name": "python3"
  },
  "language_info": {
   "codemirror_mode": {
    "name": "ipython",
    "version": 3
   },
   "file_extension": ".py",
   "mimetype": "text/x-python",
   "name": "python",
   "nbconvert_exporter": "python",
   "pygments_lexer": "ipython3",
   "version": "3.9.7"
  }
 },
 "nbformat": 4,
 "nbformat_minor": 5
}
