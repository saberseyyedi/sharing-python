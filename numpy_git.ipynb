{
 "cells": [
  {
   "cell_type": "code",
   "execution_count": 1,
   "id": "76107514-8c73-433c-b8a8-2c103ec7f1d7",
   "metadata": {},
   "outputs": [],
   "source": [
    "%matplotlib inline\n",
    "\n",
    "import numpy as np\n",
    "import matplotlib.pyplot as plt"
   ]
  },
  {
   "cell_type": "code",
   "execution_count": 3,
   "id": "e8f24185-3dc8-427d-9847-ccd2e7ad5016",
   "metadata": {},
   "outputs": [],
   "source": [
    "a = 0.1+0.1+0.1"
   ]
  },
  {
   "cell_type": "code",
   "execution_count": 4,
   "id": "f2a5887b-185e-4b74-933a-f4d276769de1",
   "metadata": {},
   "outputs": [
    {
     "data": {
      "text/plain": [
       "True"
      ]
     },
     "execution_count": 4,
     "metadata": {},
     "output_type": "execute_result"
    }
   ],
   "source": [
    "np.isclose(a,0.3)"
   ]
  },
  {
   "cell_type": "code",
   "execution_count": 5,
   "id": "a879ce55-9422-430e-aba0-e7f37ac3ed36",
   "metadata": {},
   "outputs": [
    {
     "data": {
      "text/plain": [
       "numpy.ndarray"
      ]
     },
     "execution_count": 5,
     "metadata": {},
     "output_type": "execute_result"
    }
   ],
   "source": [
    "type(np.array([0]))"
   ]
  },
  {
   "cell_type": "code",
   "execution_count": 6,
   "id": "736bfb73-86bf-4d9c-8848-c14f5722d082",
   "metadata": {},
   "outputs": [
    {
     "name": "stdout",
     "output_type": "stream",
     "text": [
      "Number of Dim:  1\n",
      "Data type a:  uint8\n",
      "[1 2 3 4 5 6]\n"
     ]
    }
   ],
   "source": [
    "a = np.array([1,2,3,4,5,6], dtype='uint8')\n",
    "print(\"Number of Dim: \", a.ndim)\n",
    "print(\"Data type a: \", a.dtype)\n",
    "print(a)"
   ]
  },
  {
   "cell_type": "code",
   "execution_count": 7,
   "id": "8a3f2284-526f-43f9-a088-5e583315e38d",
   "metadata": {},
   "outputs": [
    {
     "data": {
      "text/plain": [
       "dtype('uint64')"
      ]
     },
     "execution_count": 7,
     "metadata": {},
     "output_type": "execute_result"
    }
   ],
   "source": [
    "b = a.astype('uint64')  #change type\n",
    "b.dtype"
   ]
  },
  {
   "cell_type": "code",
   "execution_count": 8,
   "id": "8ba46f56-4fb9-43a0-a14a-fc55a16f634c",
   "metadata": {},
   "outputs": [
    {
     "data": {
      "text/plain": [
       "array([[ 1,  2,  3,  4],\n",
       "       [ 5,  6,  7,  8],\n",
       "       [ 9, 10, 11, 12]])"
      ]
     },
     "execution_count": 8,
     "metadata": {},
     "output_type": "execute_result"
    }
   ],
   "source": [
    "a = np.array([[1,2,3,4],\n",
    "              [5,6,7,8],\n",
    "              [9,10,11,12]]) # make matrix\n",
    "a"
   ]
  },
  {
   "cell_type": "code",
   "execution_count": 9,
   "id": "5851afc0-2de4-4bb6-93f5-4c2bd801dafa",
   "metadata": {},
   "outputs": [
    {
     "data": {
      "text/plain": [
       "array([[[ 1],\n",
       "        [ 2],\n",
       "        [ 3],\n",
       "        [ 4]],\n",
       "\n",
       "       [[ 5],\n",
       "        [ 6],\n",
       "        [ 7],\n",
       "        [ 8]],\n",
       "\n",
       "       [[ 9],\n",
       "        [10],\n",
       "        [11],\n",
       "        [12]]])"
      ]
     },
     "execution_count": 9,
     "metadata": {},
     "output_type": "execute_result"
    }
   ],
   "source": [
    "a = np.array([[[1],[2],[3],[4]],\n",
    "              [[5],[6],[7],[8]],\n",
    "              [[9],[10],[11],[12]]]) # make cube\n",
    "a"
   ]
  },
  {
   "cell_type": "code",
   "execution_count": 10,
   "id": "89fc84af-4d03-44f9-b11e-cb311b827bd9",
   "metadata": {},
   "outputs": [
    {
     "data": {
      "text/plain": [
       "array([[[ 1. ,  1.5],\n",
       "        [ 2. ,  2.5],\n",
       "        [ 3. ,  3.5],\n",
       "        [ 4. ,  4.5]],\n",
       "\n",
       "       [[ 5. ,  5.5],\n",
       "        [ 6. ,  6.5],\n",
       "        [ 7. ,  7.5],\n",
       "        [ 8. ,  8.5]],\n",
       "\n",
       "       [[ 9. ,  9.5],\n",
       "        [10. , 10.5],\n",
       "        [11. , 11.5],\n",
       "        [12. , 12.5]]])"
      ]
     },
     "execution_count": 10,
     "metadata": {},
     "output_type": "execute_result"
    }
   ],
   "source": [
    "a = np.array([[[1,1.5],[2,2.5],[3,3.5],[4,4.5]],\n",
    "              [[5,5.5],[6,6.5],[7,7.5],[8,8.5]],\n",
    "              [[9,9.5],[10,10.5],[11,11.5],[12,12.5]]])\n",
    "a"
   ]
  },
  {
   "cell_type": "code",
   "execution_count": 11,
   "id": "e1fe6d47-52f9-44ba-828a-44380555dd75",
   "metadata": {},
   "outputs": [
    {
     "name": "stdout",
     "output_type": "stream",
     "text": [
      "Number of Elements:  24\n",
      "Number of Elements of first demention:  3\n",
      "Shape is  (3, 4, 2)\n"
     ]
    }
   ],
   "source": [
    "print(\"Number of Elements: \",a.size)\n",
    "print(\"Number of Elements of first demention: \",len(a))\n",
    "print(\"Shape is \",a.shape) # show number of element per each demention"
   ]
  },
  {
   "cell_type": "code",
   "execution_count": 12,
   "id": "2a75558f-e73c-4cc6-af5b-9d34093fb93e",
   "metadata": {},
   "outputs": [
    {
     "name": "stdout",
     "output_type": "stream",
     "text": [
      "Memory Szie:  192\n",
      "Memory Szie:  192\n"
     ]
    }
   ],
   "source": [
    "print(\"Memory Szie: \", a.size*a.itemsize) # Calculate Memory Size\n",
    "print(\"Memory Szie: \", a.nbytes) "
   ]
  },
  {
   "cell_type": "code",
   "execution_count": 17,
   "id": "e6a8de79-7c35-4017-a3a9-3874411f5195",
   "metadata": {},
   "outputs": [
    {
     "data": {
      "text/plain": [
       "array([ 1,  3,  5,  7,  9, 11, 13, 15, 17, 19])"
      ]
     },
     "execution_count": 17,
     "metadata": {},
     "output_type": "execute_result"
    }
   ],
   "source": [
    "np.arange(1,21,2) #Generate Number in a sequence (Int)"
   ]
  },
  {
   "cell_type": "code",
   "execution_count": 18,
   "id": "67ac2fe5-0f35-40b6-9f3f-143ec7f4cb70",
   "metadata": {},
   "outputs": [
    {
     "data": {
      "text/plain": [
       "array([ 1.,  2.,  3.,  4.,  5.,  6.,  7.,  8.,  9., 10.])"
      ]
     },
     "execution_count": 18,
     "metadata": {},
     "output_type": "execute_result"
    }
   ],
   "source": [
    "np.linspace(1,10,10) # Generate Numbers with equal distance in a sequence (Float)"
   ]
  },
  {
   "cell_type": "markdown",
   "id": "b8a93e4d-4708-4ea6-852b-8c53d730597b",
   "metadata": {},
   "source": [
    "### Generate Random Number"
   ]
  },
  {
   "cell_type": "code",
   "execution_count": 19,
   "id": "a75f479b-a795-4571-adc7-81d201d2f371",
   "metadata": {},
   "outputs": [],
   "source": [
    "import random"
   ]
  },
  {
   "cell_type": "code",
   "execution_count": 20,
   "id": "4d2a4be8-bf38-454f-bc28-61ccd4dadd84",
   "metadata": {},
   "outputs": [
    {
     "name": "stdout",
     "output_type": "stream",
     "text": [
      "60 27 57 11 84 25 44 75 44 14 "
     ]
    }
   ],
   "source": [
    "#random.seed(10)       #start from 10\n",
    "for _ in range(10):\n",
    "    print(random.randint(1,100), end=' ')   #generate 10 random number"
   ]
  },
  {
   "cell_type": "code",
   "execution_count": 21,
   "id": "45ada444-0227-46e3-ab21-0b4c47fd0de9",
   "metadata": {},
   "outputs": [
    {
     "data": {
      "text/plain": [
       "0.872327352238413"
      ]
     },
     "execution_count": 21,
     "metadata": {},
     "output_type": "execute_result"
    }
   ],
   "source": [
    "np.random.uniform() # generate a uniform random number between 0 and 1"
   ]
  },
  {
   "cell_type": "code",
   "execution_count": 22,
   "id": "d31ede5e-d498-4d0d-9bc1-6bcd4b47b5b2",
   "metadata": {},
   "outputs": [
    {
     "data": {
      "text/plain": [
       "2.2438597674866947"
      ]
     },
     "execution_count": 22,
     "metadata": {},
     "output_type": "execute_result"
    }
   ],
   "source": [
    "np.random.uniform(1,10) # generate a uniform random number between 1 and 10"
   ]
  },
  {
   "cell_type": "code",
   "execution_count": 23,
   "id": "0dd87f6e-73bb-40dc-9c83-2c1a92e188d0",
   "metadata": {},
   "outputs": [
    {
     "data": {
      "text/plain": [
       "array([0.42330358, 0.36151681, 0.79408793, 0.13480778, 0.88800876,\n",
       "       0.30881426, 0.76887782, 0.04543364, 0.50724688, 0.02556394])"
      ]
     },
     "execution_count": 23,
     "metadata": {},
     "output_type": "execute_result"
    }
   ],
   "source": [
    "np.random.uniform(size=10) # generate 10 uniform random number between 0 and 1 in a vector"
   ]
  },
  {
   "cell_type": "code",
   "execution_count": 24,
   "id": "30057386-8f11-4cc9-b8cd-ab3604f64784",
   "metadata": {},
   "outputs": [
    {
     "data": {
      "text/plain": [
       "array([[0.6986034 , 0.55828985, 0.65350437],\n",
       "       [0.23005194, 0.28914747, 0.4345936 ]])"
      ]
     },
     "execution_count": 24,
     "metadata": {},
     "output_type": "execute_result"
    }
   ],
   "source": [
    "np.random.uniform(size=(2,3)) # generate a 2x3 Matrix with uniform random numbers between 0 and 1"
   ]
  },
  {
   "cell_type": "code",
   "execution_count": 25,
   "id": "6349ee6a-957a-47c5-ae7d-8ca978e31501",
   "metadata": {},
   "outputs": [
    {
     "data": {
      "text/plain": [
       "array([[[0.62017066, 0.48242053],\n",
       "        [0.13215659, 0.37677636],\n",
       "        [0.90598039, 0.94843746],\n",
       "        [0.82772446, 0.52819413]],\n",
       "\n",
       "       [[0.77638235, 0.40527363],\n",
       "        [0.7100623 , 0.72045238],\n",
       "        [0.36773756, 0.70775721],\n",
       "        [0.30921217, 0.66925067]],\n",
       "\n",
       "       [[0.28834712, 0.23357282],\n",
       "        [0.15369912, 0.39217311],\n",
       "        [0.8686832 , 0.35234638],\n",
       "        [0.3241617 , 0.83275682]]])"
      ]
     },
     "execution_count": 25,
     "metadata": {},
     "output_type": "execute_result"
    }
   ],
   "source": [
    "np.random.uniform(size=(3,4,2)) # generate a 3x4x2 Cube with uniform random numbers between 0 and 1"
   ]
  },
  {
   "cell_type": "code",
   "execution_count": 26,
   "id": "4e762c5d-9796-4bf1-91db-840976164953",
   "metadata": {},
   "outputs": [
    {
     "data": {
      "image/png": "[encoded data removed]",
      "text/plain": [
       "<Figure size 432x288 with 1 Axes>"
      ]
     },
     "metadata": {
      "needs_background": "light"
     },
     "output_type": "display_data"
    }
   ],
   "source": [
    "a = np.random.uniform(size=5000)\n",
    "plt.hist(a);"
   ]
  },
  {
   "cell_type": "code",
   "execution_count": 27,
   "id": "370e2f3e-3ab8-4933-857a-38938fc256a7",
   "metadata": {},
   "outputs": [
    {
     "data": {
      "image/png": "[encoded data removed]",
      "text/plain": [
       "<Figure size 432x288 with 1 Axes>"
      ]
     },
     "metadata": {
      "needs_background": "light"
     },
     "output_type": "display_data"
    }
   ],
   "source": [
    "a = np.random.normal(size=10000) # Generates 10000 random numbers with mean 0 and standard deviation 1\n",
    "plt.hist(a,bins=20);             # bins increases number of bars "
   ]
  },
  {
   "cell_type": "code",
   "execution_count": 28,
   "id": "225b0220-97fa-440a-a3e3-6d1ddb95b73d",
   "metadata": {},
   "outputs": [
    {
     "data": {
      "image/png": "[encoded data removed]",
      "text/plain": [
       "<Figure size 432x288 with 1 Axes>"
      ]
     },
     "metadata": {
      "needs_background": "light"
     },
     "output_type": "display_data"
    }
   ],
   "source": [
    "a = np.random.normal(14,1.5,size=10000) # Generates 10000 random numbers with mean 14 and standard deviation 1.5\n",
    "plt.hist(a,bins=20);             # bins increases number of bars"
   ]
  },
  {
   "cell_type": "markdown",
   "id": "61250c52-e8b1-4378-8617-d4fd842a2d4a",
   "metadata": {},
   "source": [
    "## Subscriptation"
   ]
  },
  {
   "cell_type": "code",
   "execution_count": 29,
   "id": "c01d048f-b907-46ef-9633-ddacc6150b39",
   "metadata": {},
   "outputs": [
    {
     "data": {
      "text/plain": [
       "array([22, 76, 54,  6, 57, 59, 39, 69, 98, 23])"
      ]
     },
     "execution_count": 29,
     "metadata": {},
     "output_type": "execute_result"
    }
   ],
   "source": [
    "a = np.random.randint(1,100,size=(10))\n",
    "a"
   ]
  },
  {
   "cell_type": "code",
   "execution_count": 30,
   "id": "9f76345d-8fe0-4144-bf29-7df74d50c350",
   "metadata": {},
   "outputs": [
    {
     "data": {
      "text/plain": [
       "array([ 22,  76,  54,   6,  57, 500,  39,  69,  98,  23])"
      ]
     },
     "execution_count": 30,
     "metadata": {},
     "output_type": "execute_result"
    }
   ],
   "source": [
    "a[5] = 500 # Subscriptation\n",
    "a"
   ]
  },
  {
   "cell_type": "code",
   "execution_count": 31,
   "id": "1b8d20bb-5a89-4ab0-bfd2-55f8b50c9375",
   "metadata": {},
   "outputs": [
    {
     "name": "stdout",
     "output_type": "stream",
     "text": [
      "(3, 4)\n",
      "[[97 89 39 52]\n",
      " [79 48  2 44]\n",
      " [78  9 13 63]]\n"
     ]
    }
   ],
   "source": [
    "a = np.random.randint(1,100,size=(3,4))\n",
    "print(a.shape)\n",
    "print(a)"
   ]
  },
  {
   "cell_type": "code",
   "execution_count": 32,
   "id": "17cd9608-0e8f-42ce-bb62-59a642a1865f",
   "metadata": {},
   "outputs": [
    {
     "name": "stdout",
     "output_type": "stream",
     "text": [
      "[[ 97  89  39  52]\n",
      " [ 79  48 200  44]\n",
      " [ 78   9  13  63]]\n"
     ]
    }
   ],
   "source": [
    "a[1,2]=200\n",
    "print(a)"
   ]
  },
  {
   "cell_type": "code",
   "execution_count": 34,
   "id": "a24c2d77-38fa-4443-8d6c-88366fca54dd",
   "metadata": {},
   "outputs": [
    {
     "data": {
      "text/plain": [
       "array([[ 97,  89,  39,  52,  79,  48],\n",
       "       [200,  44,  78,   9,  13,  63]])"
      ]
     },
     "execution_count": 34,
     "metadata": {},
     "output_type": "execute_result"
    }
   ],
   "source": [
    "a.reshape(2,6)"
   ]
  },
  {
   "cell_type": "code",
   "execution_count": 35,
   "id": "65655a32-bbd7-4af7-9049-58fed761f0c6",
   "metadata": {},
   "outputs": [
    {
     "name": "stdout",
     "output_type": "stream",
     "text": [
      "[[ 97]\n",
      " [ 89]\n",
      " [ 39]\n",
      " [ 52]\n",
      " [ 79]\n",
      " [ 48]\n",
      " [200]\n",
      " [ 44]\n",
      " [ 78]\n",
      " [  9]\n",
      " [ 13]\n",
      " [ 63]]\n"
     ]
    },
    {
     "data": {
      "text/plain": [
       "array([[ 97,  89,  39,  52],\n",
       "       [ 79,  48, 200,  44],\n",
       "       [ 78,   9,  13,  63]])"
      ]
     },
     "execution_count": 35,
     "metadata": {},
     "output_type": "execute_result"
    }
   ],
   "source": [
    "print(a.reshape(-1,1))\n",
    "a"
   ]
  },
  {
   "cell_type": "code",
   "execution_count": 36,
   "id": "9d2f695a-18c9-4848-9d0a-51eac64d8772",
   "metadata": {},
   "outputs": [
    {
     "data": {
      "text/plain": [
       "array([[ 97,  89,  39,  52,  79,  48],\n",
       "       [200,  44,  78,   9,  13,  63]])"
      ]
     },
     "execution_count": 36,
     "metadata": {},
     "output_type": "execute_result"
    }
   ],
   "source": [
    "a.resize(2,6)\n",
    "a"
   ]
  },
  {
   "cell_type": "markdown",
   "id": "702e7707-da48-419a-b5bb-a56056781887",
   "metadata": {},
   "source": [
    "### Difference between reshape and resize: \n",
    "- reshape: just change the shape but not on the main variable\n",
    "- resize: change the shape on the main variable"
   ]
  },
  {
   "cell_type": "code",
   "execution_count": 37,
   "id": "a907372f-9b10-4cda-8527-73d3a6922310",
   "metadata": {},
   "outputs": [
    {
     "data": {
      "text/plain": [
       "array([ 97,  89,  39,  52,  79,  48, 200,  44,  78,   9,  13,  63])"
      ]
     },
     "execution_count": 37,
     "metadata": {},
     "output_type": "execute_result"
    }
   ],
   "source": [
    "a.flatten()"
   ]
  },
  {
   "cell_type": "code",
   "execution_count": 38,
   "id": "da2dee93-d250-4efc-878c-16ebedd85c11",
   "metadata": {},
   "outputs": [
    {
     "data": {
      "text/plain": [
       "array([[ 97,  89,  39],\n",
       "       [ 52,  79,  48],\n",
       "       [200,  44,  78],\n",
       "       [  9,  13,  63]])"
      ]
     },
     "execution_count": 38,
     "metadata": {},
     "output_type": "execute_result"
    }
   ],
   "source": [
    "a.resize(4,3)\n",
    "a"
   ]
  },
  {
   "cell_type": "code",
   "execution_count": 39,
   "id": "4047643a-786d-49ef-9409-e57aa3c07655",
   "metadata": {},
   "outputs": [],
   "source": [
    "a = np.array([1,2,3,4])\n",
    "b = np.array([5,6,7,8])"
   ]
  },
  {
   "cell_type": "code",
   "execution_count": 40,
   "id": "96c01c3e-9b0b-47f0-9984-3366ffedc3a3",
   "metadata": {},
   "outputs": [
    {
     "data": {
      "text/plain": [
       "array([ 5, 12, 21, 32])"
      ]
     },
     "execution_count": 40,
     "metadata": {},
     "output_type": "execute_result"
    }
   ],
   "source": [
    "a*b"
   ]
  },
  {
   "cell_type": "code",
   "execution_count": 42,
   "id": "9d97714f-96c4-4417-a5ec-d59956a21265",
   "metadata": {},
   "outputs": [
    {
     "data": {
      "text/plain": [
       "70"
      ]
     },
     "execution_count": 42,
     "metadata": {},
     "output_type": "execute_result"
    }
   ],
   "source": [
    "a.dot(b)"
   ]
  },
  {
   "cell_type": "code",
   "execution_count": 43,
   "id": "177309cb-c097-4362-acdb-f0f37f4602d8",
   "metadata": {},
   "outputs": [
    {
     "data": {
      "text/plain": [
       "array([ 6,  8, 10, 12])"
      ]
     },
     "execution_count": 43,
     "metadata": {},
     "output_type": "execute_result"
    }
   ],
   "source": [
    "a+b"
   ]
  },
  {
   "cell_type": "code",
   "execution_count": 44,
   "id": "017afead-0f37-4f5f-81ad-bde07fddfad1",
   "metadata": {},
   "outputs": [
    {
     "data": {
      "text/plain": [
       "array([-4, -4, -4, -4])"
      ]
     },
     "execution_count": 44,
     "metadata": {},
     "output_type": "execute_result"
    }
   ],
   "source": [
    "a-b"
   ]
  },
  {
   "cell_type": "code",
   "execution_count": 45,
   "id": "50c508f0-0a0c-4d95-af6a-9316593235d6",
   "metadata": {},
   "outputs": [
    {
     "data": {
      "text/plain": [
       "array([0.2       , 0.33333333, 0.42857143, 0.5       ])"
      ]
     },
     "execution_count": 45,
     "metadata": {},
     "output_type": "execute_result"
    }
   ],
   "source": [
    "a/b"
   ]
  },
  {
   "cell_type": "code",
   "execution_count": 47,
   "id": "6c468c2f-aefd-41d7-b6f9-58ac3867f13b",
   "metadata": {},
   "outputs": [
    {
     "data": {
      "text/plain": [
       "array([0, 0, 1, 0], dtype=int32)"
      ]
     },
     "execution_count": 47,
     "metadata": {},
     "output_type": "execute_result"
    }
   ],
   "source": [
    "b%a"
   ]
  },
  {
   "cell_type": "code",
   "execution_count": 48,
   "id": "6a02d1ed-325f-41db-9faf-0b04289e4296",
   "metadata": {},
   "outputs": [],
   "source": [
    "a = np.random.randint(1,100,size=(3,4))\n",
    "b = np.random.randint(1,100,size=(4,2))"
   ]
  },
  {
   "cell_type": "code",
   "execution_count": 49,
   "id": "866c6800-de73-4323-b9ad-1ac34b13ade6",
   "metadata": {},
   "outputs": [
    {
     "name": "stdout",
     "output_type": "stream",
     "text": [
      "[[ 5 28  1 91]\n",
      " [32 87 30 69]\n",
      " [ 1 39 60 11]]\n",
      "[[35 22]\n",
      " [13 12]\n",
      " [85 49]\n",
      " [ 8  8]]\n"
     ]
    }
   ],
   "source": [
    "print(a)\n",
    "print(b)"
   ]
  },
  {
   "cell_type": "code",
   "execution_count": 51,
   "id": "6f046bcb-9a44-4ad3-9ba5-a57127423eac",
   "metadata": {},
   "outputs": [
    {
     "data": {
      "text/plain": [
       "array([[1352, 1223],\n",
       "       [5353, 3770],\n",
       "       [5730, 3518]])"
      ]
     },
     "execution_count": 51,
     "metadata": {},
     "output_type": "execute_result"
    }
   ],
   "source": [
    "a.dot(b)"
   ]
  },
  {
   "cell_type": "code",
   "execution_count": 52,
   "id": "c0d28c7d-a045-4afe-881a-27d88d14bcd7",
   "metadata": {},
   "outputs": [
    {
     "data": {
      "text/plain": [
       "array([[35, 13, 85,  8],\n",
       "       [22, 12, 49,  8]])"
      ]
     },
     "execution_count": 52,
     "metadata": {},
     "output_type": "execute_result"
    }
   ],
   "source": [
    "b.T"
   ]
  },
  {
   "cell_type": "code",
   "execution_count": 53,
   "id": "2f7d3d0c-17f3-4838-9c1e-efd9f312fcba",
   "metadata": {},
   "outputs": [],
   "source": [
    "a = np.random.randint(1,100,size=(3,4))\n",
    "b = np.random.randint(1,100,size=(3,4))"
   ]
  },
  {
   "cell_type": "code",
   "execution_count": 54,
   "id": "c847c5da-60e7-4000-b4f9-ec2c7f43fbef",
   "metadata": {},
   "outputs": [
    {
     "ename": "ValueError",
     "evalue": "shapes (3,4) and (3,4) not aligned: 4 (dim 1) != 3 (dim 0)",
     "output_type": "error",
     "traceback": [
      "\u001b[1;31m---------------------------------------------------------------------------\u001b[0m",
      "\u001b[1;31mValueError\u001b[0m                                Traceback (most recent call last)",
      "\u001b[1;32m~\\AppData\\Local\\Temp/ipykernel_17392/999115207.py\u001b[0m in \u001b[0;36m<module>\u001b[1;34m\u001b[0m\n\u001b[1;32m----> 1\u001b[1;33m \u001b[0ma\u001b[0m\u001b[1;33m.\u001b[0m\u001b[0mdot\u001b[0m\u001b[1;33m(\u001b[0m\u001b[0mb\u001b[0m\u001b[1;33m)\u001b[0m\u001b[1;33m\u001b[0m\u001b[1;33m\u001b[0m\u001b[0m\n\u001b[0m",
      "\u001b[1;31mValueError\u001b[0m: shapes (3,4) and (3,4) not aligned: 4 (dim 1) != 3 (dim 0)"
     ]
    }
   ],
   "source": [
    "a.dot(b)"
   ]
  },
  {
   "cell_type": "code",
   "execution_count": 55,
   "id": "1ef91532-ecb8-4d02-9d4f-9662448df31d",
   "metadata": {},
   "outputs": [
    {
     "data": {
      "text/plain": [
       "array([[ 8494,  8175,  6090],\n",
       "       [12339, 14455,  7604],\n",
       "       [11483, 10339,  7844]])"
      ]
     },
     "execution_count": 55,
     "metadata": {},
     "output_type": "execute_result"
    }
   ],
   "source": [
    "a.dot(b.T)"
   ]
  },
  {
   "cell_type": "markdown",
   "id": "179f8bdc-4959-4a84-970f-46883ff0c91b",
   "metadata": {},
   "source": [
    "# determinant"
   ]
  },
  {
   "cell_type": "code",
   "execution_count": 58,
   "id": "60f0f491-8438-4e53-9958-600f755912f4",
   "metadata": {},
   "outputs": [
    {
     "name": "stdout",
     "output_type": "stream",
     "text": [
      "[[24 42 80 86]\n",
      " [84 10 68 28]\n",
      " [77 51 87 36]\n",
      " [95 90 12 88]]\n"
     ]
    },
    {
     "data": {
      "text/plain": [
       "31586659.99999993"
      ]
     },
     "execution_count": 58,
     "metadata": {},
     "output_type": "execute_result"
    }
   ],
   "source": [
    "a = np.random.randint(1,100,size=(4,4))\n",
    "print(a)\n",
    "np.linalg.det(a)"
   ]
  },
  {
   "cell_type": "markdown",
   "id": "ab02c1b4-e256-49b1-9b20-ca1ba4208854",
   "metadata": {},
   "source": [
    "# Inverse matrix"
   ]
  },
  {
   "cell_type": "code",
   "execution_count": 59,
   "id": "1ff6a6cd-fd06-401c-8904-888e3ba534ce",
   "metadata": {},
   "outputs": [
    {
     "data": {
      "text/plain": [
       "array([[-0.00679806,  0.01320747, -0.00467235,  0.0043526 ],\n",
       "       [-0.0054789 , -0.022998  ,  0.02253736,  0.00345209],\n",
       "       [ 0.00410464, -0.00216262,  0.01045872, -0.00760182],\n",
       "       [ 0.01238251,  0.00955752, -0.01943175,  0.00417087]])"
      ]
     },
     "execution_count": 59,
     "metadata": {},
     "output_type": "execute_result"
    }
   ],
   "source": [
    "np.linalg.inv(a)"
   ]
  },
  {
   "cell_type": "markdown",
   "id": "3a375fef-ce4e-4230-80ec-b3e8062e3bd9",
   "metadata": {},
   "source": [
    "----\n",
    "$ 2x+3y=5 $\n",
    "\n",
    "$ -x+7y=2 $\n",
    "\n"
   ]
  },
  {
   "cell_type": "markdown",
   "id": "2231e786-bd1a-48ee-8129-875adefda330",
   "metadata": {},
   "source": [
    "---"
   ]
  },
  {
   "cell_type": "code",
   "execution_count": 60,
   "id": "5612d8c4-a953-42e1-b61d-18dbbe03e443",
   "metadata": {},
   "outputs": [
    {
     "data": {
      "text/plain": [
       "array([1.70588235, 0.52941176])"
      ]
     },
     "execution_count": 60,
     "metadata": {},
     "output_type": "execute_result"
    }
   ],
   "source": [
    "a = np.array([[2,3],[-1,7]])\n",
    "b = np.array([5,2])\n",
    "np.linalg.solve(a,b)"
   ]
  },
  {
   "cell_type": "markdown",
   "id": "917db118-63b2-4f36-beed-06489cb96d61",
   "metadata": {},
   "source": [
    "# Comparison (Boolean Matrix)"
   ]
  },
  {
   "cell_type": "code",
   "execution_count": 63,
   "id": "19d23da0-66d6-4259-be44-fe3fc0db647a",
   "metadata": {},
   "outputs": [
    {
     "data": {
      "text/plain": [
       "array([[44, 18, 87, 15, 92],\n",
       "       [39, 63, 70, 69, 47],\n",
       "       [69, 80, 29, 92, 17],\n",
       "       [24, 71,  8,  8, 61],\n",
       "       [66, 57, 91, 67, 45]])"
      ]
     },
     "execution_count": 63,
     "metadata": {},
     "output_type": "execute_result"
    }
   ],
   "source": [
    "a = np.random.randint(1,100,size=(5,5))\n",
    "a"
   ]
  },
  {
   "cell_type": "code",
   "execution_count": 65,
   "id": "92fdfc7c-744d-41d8-968d-146ac89f7d74",
   "metadata": {},
   "outputs": [
    {
     "data": {
      "text/plain": [
       "array([[False, False, False, False, False],\n",
       "       [False, False,  True, False, False],\n",
       "       [False, False, False, False, False],\n",
       "       [False, False, False, False, False],\n",
       "       [False, False, False, False, False]])"
      ]
     },
     "execution_count": 65,
     "metadata": {},
     "output_type": "execute_result"
    }
   ],
   "source": [
    "a == 70"
   ]
  },
  {
   "cell_type": "code",
   "execution_count": 67,
   "id": "d570ca2f-c2f6-4c00-a434-3b874b1117d2",
   "metadata": {},
   "outputs": [
    {
     "data": {
      "text/plain": [
       "array([[ True, False,  True, False,  True],\n",
       "       [ True,  True,  True,  True,  True],\n",
       "       [ True,  True, False,  True, False],\n",
       "       [False,  True, False, False,  True],\n",
       "       [ True,  True,  True,  True,  True]])"
      ]
     },
     "execution_count": 67,
     "metadata": {},
     "output_type": "execute_result"
    }
   ],
   "source": [
    "b = a > 30\n",
    "b"
   ]
  },
  {
   "cell_type": "code",
   "execution_count": 68,
   "id": "7ed4f9dc-df5b-445d-b9fa-5f1b7fd18130",
   "metadata": {},
   "outputs": [
    {
     "data": {
      "text/plain": [
       "array([44, 87, 92, 39, 63, 70, 69, 47, 69, 80, 92, 71, 61, 66, 57, 91, 67,\n",
       "       45])"
      ]
     },
     "execution_count": 68,
     "metadata": {},
     "output_type": "execute_result"
    }
   ],
   "source": [
    "a[b] #return a vector of elements of (a) matrix where are true in matrix (b)"
   ]
  },
  {
   "cell_type": "code",
   "execution_count": 69,
   "id": "764acab3-f4b5-43a4-a928-57400b51af9b",
   "metadata": {},
   "outputs": [
    {
     "data": {
      "text/plain": [
       "array([18, 15, 29, 17, 24,  8,  8])"
      ]
     },
     "execution_count": 69,
     "metadata": {},
     "output_type": "execute_result"
    }
   ],
   "source": [
    "a[~b] #return a vector of elements of (a) matrix where are false in matrix (b)"
   ]
  },
  {
   "cell_type": "code",
   "execution_count": 70,
   "id": "8123f50c-7418-4118-9b31-e62577897dea",
   "metadata": {},
   "outputs": [
    {
     "data": {
      "text/plain": [
       "(array([0, 0, 1, 1, 1, 2, 2, 2, 3, 3, 4, 4, 4, 4], dtype=int64),\n",
       " array([2, 4, 1, 2, 3, 0, 1, 3, 1, 4, 0, 1, 2, 3], dtype=int64))"
      ]
     },
     "execution_count": 70,
     "metadata": {},
     "output_type": "execute_result"
    }
   ],
   "source": [
    "np.where(a>50)"
   ]
  },
  {
   "cell_type": "code",
   "execution_count": 71,
   "id": "8821cdd7-69e2-42e6-afd9-1669ad9f69da",
   "metadata": {},
   "outputs": [
    {
     "data": {
      "text/plain": [
       "92"
      ]
     },
     "execution_count": 71,
     "metadata": {},
     "output_type": "execute_result"
    }
   ],
   "source": [
    "a.max()"
   ]
  },
  {
   "cell_type": "code",
   "execution_count": 72,
   "id": "5d275299-57f0-4611-bb7f-2ef99d2b39ff",
   "metadata": {},
   "outputs": [
    {
     "data": {
      "text/plain": [
       "8"
      ]
     },
     "execution_count": 72,
     "metadata": {},
     "output_type": "execute_result"
    }
   ],
   "source": [
    "a.min()"
   ]
  },
  {
   "cell_type": "code",
   "execution_count": 73,
   "id": "df729af5-397a-496e-8473-0a8611bafb59",
   "metadata": {},
   "outputs": [
    {
     "data": {
      "text/plain": [
       "53.16"
      ]
     },
     "execution_count": 73,
     "metadata": {},
     "output_type": "execute_result"
    }
   ],
   "source": [
    "a.mean()"
   ]
  },
  {
   "cell_type": "code",
   "execution_count": 74,
   "id": "4922f77d-1fa4-42f6-a537-dd93b0b514bd",
   "metadata": {},
   "outputs": [
    {
     "data": {
      "text/plain": [
       "4"
      ]
     },
     "execution_count": 74,
     "metadata": {},
     "output_type": "execute_result"
    }
   ],
   "source": [
    "a.argmax()"
   ]
  },
  {
   "cell_type": "code",
   "execution_count": 75,
   "id": "267301eb-67f2-483b-ba55-0533e79146fe",
   "metadata": {},
   "outputs": [
    {
     "data": {
      "text/plain": [
       "17"
      ]
     },
     "execution_count": 75,
     "metadata": {},
     "output_type": "execute_result"
    }
   ],
   "source": [
    "a.argmin()"
   ]
  },
  {
   "cell_type": "code",
   "execution_count": 76,
   "id": "1cd6fec7-eb26-44c6-a10b-d7b34fb310c2",
   "metadata": {},
   "outputs": [
    {
     "name": "stdout",
     "output_type": "stream",
     "text": [
      "[1 2 3 4 5 6 7 8 9]\n",
      "[ 1  4  9 16 25 36 49 64 81]\n"
     ]
    }
   ],
   "source": [
    "a = np.arange(1,10)\n",
    "b = a**2\n",
    "print(a)\n",
    "print(b)"
   ]
  },
  {
   "cell_type": "code",
   "execution_count": 77,
   "id": "e79769c0-2a32-4037-b41c-6c17d4434bd5",
   "metadata": {},
   "outputs": [
    {
     "data": {
      "text/plain": [
       "array([[ 1,  2,  3,  4,  5,  6,  7,  8,  9],\n",
       "       [ 1,  4,  9, 16, 25, 36, 49, 64, 81]])"
      ]
     },
     "execution_count": 77,
     "metadata": {},
     "output_type": "execute_result"
    }
   ],
   "source": [
    "np.vstack((a,b))"
   ]
  },
  {
   "cell_type": "code",
   "execution_count": 78,
   "id": "e72b6d85-12fa-4998-966e-2e8061a54ae7",
   "metadata": {},
   "outputs": [
    {
     "data": {
      "text/plain": [
       "array([ 1,  2,  3,  4,  5,  6,  7,  8,  9,  1,  4,  9, 16, 25, 36, 49, 64,\n",
       "       81])"
      ]
     },
     "execution_count": 78,
     "metadata": {},
     "output_type": "execute_result"
    }
   ],
   "source": [
    "np.hstack((a,b))"
   ]
  },
  {
   "cell_type": "code",
   "execution_count": 79,
   "id": "9b9024b5-a2ea-4cee-a9e4-3b910cf23835",
   "metadata": {},
   "outputs": [
    {
     "data": {
      "text/plain": [
       "array([[ 1,  1],\n",
       "       [ 2,  4],\n",
       "       [ 3,  9],\n",
       "       [ 4, 16],\n",
       "       [ 5, 25],\n",
       "       [ 6, 36],\n",
       "       [ 7, 49],\n",
       "       [ 8, 64],\n",
       "       [ 9, 81]])"
      ]
     },
     "execution_count": 79,
     "metadata": {},
     "output_type": "execute_result"
    }
   ],
   "source": [
    "np.hstack((a.reshape(-1,1),b.reshape(-1,1)))"
   ]
  },
  {
   "cell_type": "code",
   "execution_count": null,
   "id": "028b89f8-8dc7-4779-b030-04be5464a5bc",
   "metadata": {},
   "outputs": [],
   "source": []
  }
 ],
 "metadata": {
  "kernelspec": {
   "display_name": "Python 3 (ipykernel)",
   "language": "python",
   "name": "python3"
  },
  "language_info": {
   "codemirror_mode": {
    "name": "ipython",
    "version": 3
   },
   "file_extension": ".py",
   "mimetype": "text/x-python",
   "name": "python",
   "nbconvert_exporter": "python",
   "pygments_lexer": "ipython3",
   "version": "3.9.7"
  }
 },
 "nbformat": 4,
 "nbformat_minor": 5
}
